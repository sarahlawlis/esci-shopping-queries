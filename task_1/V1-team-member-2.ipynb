{
 "cells": [
  {
   "cell_type": "code",
   "execution_count": 1,
   "metadata": {},
   "outputs": [],
   "source": [
    "import sys"
   ]
  },
  {
   "cell_type": "code",
   "execution_count": 2,
   "metadata": {},
   "outputs": [],
   "source": [
    "import torch"
   ]
  },
  {
   "cell_type": "code",
   "execution_count": 3,
   "metadata": {},
   "outputs": [],
   "source": [
    "from transformers import DistilBertModel, DistilBertTokenizer\n",
    "from transformers import RobertaTokenizer, RobertaModel\n",
    "from transformers import AutoModel, AutoTokenizer "
   ]
  },
  {
   "cell_type": "code",
   "execution_count": 4,
   "metadata": {},
   "outputs": [],
   "source": [
    "import os"
   ]
  },
  {
   "cell_type": "code",
   "execution_count": 5,
   "metadata": {},
   "outputs": [],
   "source": [
    "import pandas as pd"
   ]
  },
  {
   "cell_type": "code",
   "execution_count": 6,
   "metadata": {},
   "outputs": [],
   "source": [
    "import dask.dataframe as dd"
   ]
  },
  {
   "cell_type": "code",
   "execution_count": 7,
   "metadata": {},
   "outputs": [],
   "source": [
    "import numpy as np"
   ]
  },
  {
   "cell_type": "code",
   "execution_count": 8,
   "metadata": {},
   "outputs": [],
   "source": [
    "from sklearn.metrics import confusion_matrix\n",
    "import seaborn as sns\n",
    "import matplotlib.pyplot as plt"
   ]
  },
  {
   "cell_type": "code",
   "execution_count": 9,
   "metadata": {},
   "outputs": [],
   "source": [
    "import torch.nn as nn\n",
    "import torch.optim as optim\n",
    "from sklearn.metrics import f1_score\n",
    "from torch.utils.data import DataLoader, Dataset\n",
    "from sklearn.preprocessing import LabelEncoder\n",
    "from collections import Counter\n",
    "import string"
   ]
  },
  {
   "cell_type": "code",
   "execution_count": 10,
   "metadata": {},
   "outputs": [],
   "source": [
    "import torch.nn.functional as F"
   ]
  },
  {
   "cell_type": "markdown",
   "metadata": {},
   "source": [
    "# Load Data"
   ]
  },
  {
   "cell_type": "code",
   "execution_count": 11,
   "metadata": {},
   "outputs": [],
   "source": [
    "examples_path = os.path.join('.', 'data', 'shopping_queries_dataset_examples.parquet')\n",
    "products_path = os.path.join('.', 'data', 'shopping_queries_dataset_products.parquet')\n",
    "sources_path = os.path.join('.', 'data', 'shopping_queries_dataset_sources.csv')\n",
    "\n",
    "examples = dd.read_parquet(examples_path)\n",
    "products = dd.read_parquet(products_path)\n",
    "sources = dd.read_csv(sources_path)"
   ]
  },
  {
   "cell_type": "code",
   "execution_count": 12,
   "metadata": {},
   "outputs": [
    {
     "name": "stderr",
     "output_type": "stream",
     "text": [
      "/home/cgcordes/python3.14/lib/python3.11/site-packages/dask_expr/_collection.py:4196: UserWarning: \n",
      "You did not provide metadata, so Dask is running your function on a small dataset to guess output types. It is possible that Dask will guess incorrectly.\n",
      "To provide an explicit output types or to silence this message, please provide the `meta=` keyword, as described in the map or apply function that you are using.\n",
      "  Before: .apply(func)\n",
      "  After:  .apply(func, meta=('esci_label', 'float64'))\n",
      "\n",
      "  warnings.warn(meta_warning(meta))\n"
     ]
    }
   ],
   "source": [
    "examples_products = dd.merge(\n",
    "    examples,\n",
    "    products,\n",
    "    how='left',\n",
    "    left_on=['product_locale','product_id'],\n",
    "    right_on=['product_locale', 'product_id']\n",
    ")\n",
    "\n",
    "examples_products = examples_products[examples_products['product_locale'] == 'us']\n",
    "\n",
    "task_2 = examples_products[examples_products['large_version'] == 1]\n",
    "\n",
    "# removing puncuation \n",
    "# this takes in the dask data frame and the string puncuation \n",
    "# applied to the daskdata frame\n",
    "# lambda which processes each test in the dask series \n",
    "# it iterates through each character and saves only characters that are not in puncts\n",
    "puncts = string.punctuation\n",
    "def process_text(text_series, puncts):\n",
    "    return text_series.apply(lambda text: ''.join(ch for ch in str(text) if ch not in puncts))\n",
    "\n",
    "\n",
    "task_2['query'] = task_2['query'].map_partitions(process_text, puncts=puncts)\n",
    "\n",
    "\n",
    "# encoding the esci labels \n",
    "label_mapping = {'E': 0, \n",
    "                 'S': 1, \n",
    "                 'C': 2, \n",
    "                 'I': 3}\n",
    "\n",
    "task_2['encoded_labels'] = task_2['esci_label'].map(label_mapping).astype(int)\n",
    "\n",
    "\n",
    "\n",
    "task_2_train = task_2[task_2['split'] == 'train']\n",
    "task_2_test = task_2[task_2['split'] == 'test']"
   ]
  },
  {
   "cell_type": "code",
   "execution_count": 13,
   "metadata": {},
   "outputs": [
    {
     "name": "stdout",
     "output_type": "stream",
     "text": [
      "                                                  query\n",
      "0                           qscreen fence without holes\n",
      "1  1 black natural hair dye without ammonia or peroxide\n",
      "2                   100 things that are not electronics\n",
      "3                                100 silicone not clear\n",
      "4    34tortillas without interesterified soybean oilâ€\n"
     ]
    }
   ],
   "source": [
    "# Sample data for proof of concept \n",
    "# delete later \n",
    "data = {'query': [\"!qscreen fence without holes\", \"#1 black natural hair dye without ammonia or peroxide\", \n",
    "                  \"$100 things that are not electronics\", \"%100 silicone not clear\", \"&#34;tortillas without interesterified soybean oilâ€\"]}\n",
    "\n",
    "# create the fake data frame \n",
    "df = dd.from_pandas(pd.DataFrame(data), npartitions=1)\n",
    "\n",
    "# applying to the 'query' column using map_partitions\n",
    "df['query'] = df['query'].map_partitions(process_text, puncts=puncts)\n",
    "\n",
    "pd.set_option('display.max_colwidth', None)\n",
    "\n",
    "print(df.compute())"
   ]
  },
  {
   "cell_type": "code",
   "execution_count": 14,
   "metadata": {},
   "outputs": [],
   "source": [
    "device = torch.device('cuda' if torch.cuda.is_available() else 'cpu')"
   ]
  },
  {
   "cell_type": "markdown",
   "metadata": {},
   "source": [
    "# Sampling for imbalance "
   ]
  },
  {
   "cell_type": "code",
   "execution_count": 15,
   "metadata": {},
   "outputs": [
    {
     "name": "stdout",
     "output_type": "stream",
     "text": [
      "(29127, 15)\n"
     ]
    }
   ],
   "source": [
    "# counting the ammount of C labels in the large data set \n",
    "task_2_train_C = task_2_train[task_2_train['encoded_labels'] == 2]\n",
    "print(task_2_train_C.compute().shape)"
   ]
  },
  {
   "cell_type": "code",
   "execution_count": 16,
   "metadata": {},
   "outputs": [
    {
     "name": "stderr",
     "output_type": "stream",
     "text": [
      "/home/cgcordes/python3.14/lib/python3.11/site-packages/dask/core.py:133: FutureWarning: Operation between non boolean Series with different indexes will no longer return a boolean result in a future version. Cast both Series to object type to maintain the prior behavior.\n",
      "  return func(*(_execute_task(a, cache) for a in args))\n"
     ]
    },
    {
     "name": "stdout",
     "output_type": "stream",
     "text": [
      "(29127, 15)\n"
     ]
    }
   ],
   "source": [
    "# randomly sampling the same number for exact matches \n",
    "# working on the exact samples\n",
    "task_2_train_E = task_2_train[task_2_train['encoded_labels'] == 0]\n",
    "total_rows_E = task_2_train_E.shape[0].compute()\n",
    "sample_fraction = 29127 / total_rows_E\n",
    "task_2_train_sample_E = task_2_train_E.sample(frac=sample_fraction, random_state=42)\n",
    "\n",
    "print(task_2_train_sample_E.compute().shape)"
   ]
  },
  {
   "cell_type": "code",
   "execution_count": 17,
   "metadata": {},
   "outputs": [
    {
     "name": "stderr",
     "output_type": "stream",
     "text": [
      "/home/cgcordes/python3.14/lib/python3.11/site-packages/dask/core.py:133: FutureWarning: Operation between non boolean Series with different indexes will no longer return a boolean result in a future version. Cast both Series to object type to maintain the prior behavior.\n",
      "  return func(*(_execute_task(a, cache) for a in args))\n"
     ]
    },
    {
     "name": "stdout",
     "output_type": "stream",
     "text": [
      "(29127, 15)\n"
     ]
    }
   ],
   "source": [
    "task_2_train_S = task_2_train[task_2_train['encoded_labels'] == 1]\n",
    "total_rows_S = task_2_train_S.shape[0].compute()\n",
    "sample_fraction = 29127 / total_rows_S\n",
    "task_2_train_sample_S = task_2_train_S.sample(frac=sample_fraction, random_state=42)\n",
    "print(task_2_train_sample_S.compute().shape)\n"
   ]
  },
  {
   "cell_type": "code",
   "execution_count": 18,
   "metadata": {},
   "outputs": [
    {
     "name": "stderr",
     "output_type": "stream",
     "text": [
      "/home/cgcordes/python3.14/lib/python3.11/site-packages/dask/core.py:133: FutureWarning: Operation between non boolean Series with different indexes will no longer return a boolean result in a future version. Cast both Series to object type to maintain the prior behavior.\n",
      "  return func(*(_execute_task(a, cache) for a in args))\n"
     ]
    },
    {
     "name": "stdout",
     "output_type": "stream",
     "text": [
      "(29127, 15)\n"
     ]
    }
   ],
   "source": [
    "task_2_train_I = task_2_train[task_2_train['encoded_labels'] == 3]\n",
    "total_rows_I = task_2_train_I.shape[0].compute()\n",
    "sample_fraction = 29127 / total_rows_I\n",
    "task_2_train_sample_I = task_2_train_I.sample(frac=sample_fraction, random_state=42)\n",
    "print(task_2_train_sample_I.compute().shape)"
   ]
  },
  {
   "cell_type": "code",
   "execution_count": 19,
   "metadata": {},
   "outputs": [
    {
     "name": "stdout",
     "output_type": "stream",
     "text": [
      "(116508, 15)\n"
     ]
    }
   ],
   "source": [
    "# combining the data frame \n",
    "balanced_train = dd.concat([task_2_train_C, task_2_train_sample_E, task_2_train_sample_S, task_2_train_sample_I], axis=0, ignore_unknown_divisions=True)\n",
    "balanced_train = balanced_train.repartition(npartitions=1)\n",
    "print(balanced_train.compute().shape)"
   ]
  },
  {
   "cell_type": "code",
   "execution_count": 20,
   "metadata": {},
   "outputs": [
    {
     "name": "stdout",
     "output_type": "stream",
     "text": [
      "     example_id                                                 query  \\\n",
      "22           22                           awnmower tires without rims   \n",
      "143         222                               2 pencils not sharpened   \n",
      "286         365  1 best and not expensive bath back brush cream color   \n",
      "320         399  1 best and not expensive bath back brush cream color   \n",
      "811         890             2 pencils with erasers sharpened not soft   \n",
      "\n",
      "     query_id  product_id product_locale esci_label  small_version  \\\n",
      "22          1  B01M3SJ699             us          C              1   \n",
      "143         6  B075DTDGSS             us          C              1   \n",
      "286        11  B07HGH25S3             us          C              1   \n",
      "320        11  B01K8PEZMU             us          C              1   \n",
      "811        28  B01FWSJQU4             us          C              1   \n",
      "\n",
      "     large_version  split  \\\n",
      "22               1  train   \n",
      "143              1  train   \n",
      "286              1  train   \n",
      "320              1  train   \n",
      "811              1  train   \n",
      "\n",
      "                                                                                                                                                        product_title  \\\n",
      "22           Dr.Roc Tire Spoon Lever Dirt Bike Lawn Mower Motorcycle Tire Changing Tools with Durable Bag 3 Tire Irons 2 Rim Protectors 1 Valve Stems Set TR412 TR413   \n",
      "143  Arteza HB Pencils #2, Pack of 48, Wood-Cased Graphite Pencils in Bulk, Pre-Sharpened, with Latex-Free Erasers, Office & School Supplies for Exams and Classrooms   \n",
      "286                                                                                                       Molton Brown Jasmine & Sun Rose Bath & Shower Gel, 10 Fl Oz   \n",
      "320                            Majestic Pure Himalayan Salt Body Scrub with Lychee Oil, Exfoliating Salt Scrub to Exfoliate & Moisturize Skin, Deep Cleansing - 10 oz   \n",
      "811                 ezpencils - Red Barrel Golf (1/2 a pencil - Pew pencils) Hexagon Pencils with Eraser - 48 pkg - Non-Smudge Eraser - # 2 HB Lead - Sharpened - NEW   \n",
      "\n",
      "                                                                                                                                                                                                                                                                                                                                                                                                                                                                                                                                                                                                                                                                                                                                                                                                                                                                                                                                                                                                                                                                                                                                                                                                                      product_description  \\\n",
      "22                                                                                                                                                                                        </b><p> Easy tire spoons to change your motorcycle,dirtbike,lawn mower,garden tractor,kayak transporter and other small tires like wheel barrow tires etc</p> <p><b>Specifications:</b><br /> Length:11\" (280mm) <br />Weight:480g<br />Finish: Beautiful polished chrome finish <br />Useful tire tool to change the tire of motorcycles/dirt bikes/lawn mower/atv and other small tires like wheel barrow tires <br />Easy Grip Handle:Nice handles,nice distinction from most other levers,Anti-skid Anti- hand <br />Materials: Heavy duty weather and rust-resistant strong automotive grade drop forged steel<br /> Useful motorcycle tire changing tools:11\"(280mm) ,set of 3 tire irons .Ensure works great on atv,motorcycle,dirtbike tires,removing and reinstalling small tires with minimal fuss<br />Being chromed and smooth rounded edges on the tire spoons ensure the tire bead to roll off the rim,without pinching your tire and the rim<br />Very Solidly Built:Even strong enough to break the bead on your tire<br /> <p>   \n",
      "143                                                 <p>Arteza wood-cased #2 pencils come in smaller boxes of 12 within a larger box for supply management ease.</p> <p>The HB #2 lead writes smoothly, giving dark, long-lasting lines which are perfect for test taking, scantrons, and first drafts. The graphite is certified non-toxic, and is specially formulated to resist breaking, keeping tips sharp and ensuring an intact core for the life of the pencil. </p> <p>The latex free eraser lifts even the heaviest of marks without smudging and remove even the darkest of mistakes completely. It is designed to last through multiple corrections. This makes them perfect for crosswords, word searches, and other puzzles.</p> <p>Each writing instrument is cased in wood from responsibly managed forests, and the graphite is formulated from renewable resources with the environment in mind. </p> <p>They are finished in a stylish soft ocher-yellow, satin-smooth finish to give a secure grip that is comfortable to write with for hours. These are the perfect pencils for in the classroom, office, or home. If you are an artist, writer, or crossword junkie, these pencils will perform for you.<br /> </p>   \n",
      "286                                                                                                                                                                                                                                                                                                                                                                                                                                                                                                                                                                                                                                                                                                                                                                                                                                                                                                                                                                                                                                                                                                                                                                                                                                  <NA>   \n",
      "320  Majestic Pure Organic Himalayan Lychee Pink Crystal Salt Body Scrub will help you relax & wash away tension. Himalayan Crystal Salt provides a perfect mineral-rich buffer to remove the dull, dead skin cells, bringing new life to your skin. Lychee essential oil is added to an ultra-moisturizing blend of nourishing botanical oils to leave your skin velvety soft & ever so lightly scented. By exfoliating with Himalayan Lychee Pink Crystal Salt Scrub, the rich minerals & nutrients in the salt are delivered to your cells via an easily absorbed ionic infusion.<br><br> Body scrubs helps improve the texture, tone & appearance of your skin<br> Help combat water retention.<br> Help reduce the appearance of cellulite<br> Help prevent muscle cramping and soreness<br> Promote clam and relaxation<br> Help increase circulation, assist in the rejuvenation of your cells<br> Assist in purging the auric field of negative vibrations<br> <br>Click the button at the top of this page to buy with confidence.<br><br>[FDA Statement]: These Statements have not been evaluated by the food and drug administration. This product is not intended to diagnose, mitigate, treat, cure or prevent any disease.   \n",
      "811                                                                                                                                                                                                                                                                                                                                                                                                                                                                                                                                                                                                                                                                                                                                                                                                                                                                                                                                       48 High quality woodcased HB No. 2 Lead - Red barrel -Pew Pencils - 1/2 a pencil - Games pencils - Hexagon graphite pencils – Non-Smudge Eraser. - 3.75\" Overall Length - Sharpened - Use for office supply, School supply, Students, Teachers, Record keeping, Family reunions, Churches, ETC.   \n",
      "\n",
      "                                                                                                                                                                                                                                                                                                                                                                                                                                                                                                                                                                                                                                                                                                                                                                                                                                                                                                                                                                                                                                                                                                                                                                                                                                                                                                                                                                                                                                                                                                                                                                          product_bullet_point  \\\n",
      "22                                                                                                                                                                                                                                                                                                                                                                                                                                                                                                                                       Tire Spoons for motorcycle tires,dirtbike tires and lawn mower tires. Removing and reinstalling tires with minimal fuss. Rim Protectors is used to protect your wheel rims from being scratched.Free Valve core set and tire valve caps.\n",
      "Premium Quality Tire tool: Very durable strong automotive grade drop forged steel, rustproof&weatherproof,beautiful polished chrome finish,packed with black durable oxford case to keep tire spoons together and organized.\n",
      "User Friendly Tire Irons: Easy grip handle,smooth rounded edges of the spoons,easy to use and without pinching your innertube\n",
      "Useful Motorcycle Tire Changing Tools: Set of 3 tire spoons, 2 * rim protectors, tire valve stems (4 * TR412 & 2 * TR413), 1 * 4-way valve tool with 4 valve caps.It also works great on atv,dirtbike,garden tractor,lawn mower, snow blower,riding lawn tractor' tires.Removing and reinstalling motorcycle tires with minimal fuss\n",
      "Dr.Roc Tire lever: Most trusted auto accessories expert,millions buyers' choice, excellent customer service.   \n",
      "143                                                                                                                                                                                                                                                                                                                                                                                                         Box of 48 Count #2 Pencils With Latex-free Erasers: Our Arteza Pencils are a go-to both for an office and a school maintaining their classroom supplies. They're certified nontoxic and safe for use by all ages.\n",
      "Satin Matte Coating for a Comfortable Grip: Each pencil is finished in a special coating, giving them a comfortable grip. These number 2 pencils are hexagonal in shape to fit nicely in your hand when writing, scribbling, or doodling.\n",
      "This set of pre-sharpened pencils features break-resistant cores to ensure easy and even sharpening. The hard lead will not smear nor smudge, and works both for scantron tests and rough drafts.\n",
      "Designed and Created by Artists: Here at Arteza, we are passionate about creating products that inspire. For us, art is an expression of the human experience. That’s why we work to make our art supplies accessible to all people.\n",
      "We Care About Our Customers: We want to ensure you have a great experience with our products because we truly care about our customers. Our team strives to create products we’re proud of. If you have any issues with our products, please reach out and we’ll make it right.   \n",
      "286                                                                                                                                                                                                                                                                                                                                                                                                                                                                                                                                                                                                                                                                                                                                                                                                                                                                                                                                                                                                                                                                                                                                                                                                                                                                                                                                                                                                                                                                                                                                                                                       <NA>   \n",
      "320  A Massage Body Scrub Ð Majestic Pure Himalayan Salt Scrub is formulated with powerful Natural Ingredients including Lychee berry, Sweet Almond Oil, and various Nutrients for their benefits on skin. Lychee Berry Oil has a soft, delicate scent and is rich in antioxidants and Vitamin C. Majestic Pure Salt Scrub Detoxifies & Hydrates skin while containing No Harmful Chemicals. It can be used by Men & Women.\n",
      "Himalayan Pink Salt Ð Himalayan salt is known for its impressive nutrient profile, which includes high trace amounts of calcium, magnesium, potassium, copper & iron. These nutrients help detoxify skin by balancing pH levels in the body. The pink salt crystals act as a pore-minimizer to restore smooth, soft skin; Himalayan Salt color can vary from light to dark pink color hence the scrub color may vary.\n",
      "Detoxification + Hydration - Body Scrubs Exfoliate skin to remove dead cells, toxins, dirt, pollution, and from pores. Scrubbing also increases blood flow to assist in rejuvenation of skin cells; leaving not only your skin revived but also refreshing your whole Mind, Body, and Spirit\n",
      "Skin Blemish Solution - Our unique blend of ingredients can help to reduce the appearance of Acne, Blackheads, Cellulite, Stretch Marks, Scars, and Excess Oil. A pore-minimizer and hydrating solution to leave your skin feeling smoother, softer, and firmer\n",
      "Cruelty-Free, Made in USA - At Majestic Pure Cosmeceuticals, we are proud to provide you with all-natural cruelty-free products made right here in the United States of America   \n",
      "811                                                                                                                                                                                                                                                                                                                                                                                                                                                                                                                                                                                                                                                                                                                                                                                                                                                                                                                                                                                                                                                                                                                                                                                                48 High quality woodcased HB No. 2 Lead - Red barrel -Pew Pencils - 1/2 a pencil - Game pencils - Hexagon graphite pencils – Non-Smudge Eraser. **Please read all product bullets and scroll down to Product description**\n",
      "Package of 48 pencils\n",
      "3.75\" Overall Length - Sharpened\n",
      "Use for office supply, School supply, Students, Teachers, Record keeping, Family reunions, Churches, ETC.   \n",
      "\n",
      "         product_brand product_color  encoded_labels  \n",
      "22              Dr.Roc          <NA>               2  \n",
      "143             ARTEZA    48 Pencils               2  \n",
      "286       Molton Brown          <NA>               2  \n",
      "320      MAJESTIC PURE          <NA>               2  \n",
      "811  EZPENCILS & GIFTS          <NA>               2  \n"
     ]
    }
   ],
   "source": [
    "# repartition so it behave as a single dataset \n",
    "print(balanced_train.compute().head())"
   ]
  },
  {
   "cell_type": "markdown",
   "metadata": {},
   "source": [
    "# Defining the model"
   ]
  },
  {
   "cell_type": "code",
   "execution_count": 14,
   "metadata": {},
   "outputs": [],
   "source": [
    "tokenizer = AutoTokenizer.from_pretrained('distilroberta-base')\n",
    "model = AutoModel.from_pretrained('distilroberta-base').to(device)\n",
    "\n",
    "for param in model.parameters():\n",
    "    param.requires_grad = False\n",
    "\n",
    "def generate_embeddings(texts):\n",
    "    batch_size = 128  # adjust this size\n",
    "    embeddings = []\n",
    "\n",
    "    for i in range(0, len(texts), batch_size):\n",
    "        batch = texts[i:i + batch_size]\n",
    "        inputs = tokenizer(batch.tolist(), return_tensors='pt', padding=True, truncation=True, max_length=512)\n",
    "        inputs = {key: value.to(device) for key, value in inputs.items()}\n",
    "\n",
    "        with torch.no_grad():\n",
    "            outputs = model(**inputs)\n",
    "\n",
    "        batch_embeddings = outputs.last_hidden_state[:, 0, :].cpu().numpy()\n",
    "        embeddings.append(batch_embeddings)\n",
    "\n",
    "    return np.vstack(embeddings)\n",
    "\n",
    "def process_partition(partition):\n",
    "    query_embeddings = generate_embeddings(partition['query'])\n",
    "    product_title_embeddings = generate_embeddings(partition['product_title'])\n",
    "\n",
    "    combined = torch.cat((torch.tensor(query_embeddings), torch.tensor(product_title_embeddings)), dim=1).numpy()\n",
    "    \n",
    "    print(f'Combined shape: {combined.shape}')  # Expecting (n, 1536)\n",
    "\n",
    "    result = pd.DataFrame(combined, index=partition.index, columns=[f'embedding_{i}' for i in range(combined.shape[1])])\n",
    "\n",
    "    return result"
   ]
  },
  {
   "cell_type": "code",
   "execution_count": 15,
   "metadata": {},
   "outputs": [],
   "source": [
    "# creating a data frame and enerate column names\n",
    "meta = pd.DataFrame(columns=[f'embedding_{i}' for i in range(2 * 768)], dtype='float64')"
   ]
  },
  {
   "cell_type": "code",
   "execution_count": 16,
   "metadata": {},
   "outputs": [],
   "source": [
    "def generate_embeddings(texts):\n",
    "    batch_size = 128  # adjust this size\n",
    "    embeddings = []\n",
    "\n",
    "    for i in range(0, len(texts), batch_size):\n",
    "        batch = texts[i:i + batch_size]\n",
    "        inputs = tokenizer(batch.tolist(), return_tensors='pt', padding=True, truncation=True, max_length=512)\n",
    "        inputs = {key: value.to(device) for key, value in inputs.items()}\n",
    "\n",
    "        with torch.no_grad():\n",
    "            outputs = model(**inputs)\n",
    "\n",
    "        # change for maxpooling (dim=1)\n",
    "        pooled_embeddings = torch.max(outputs.last_hidden_state, dim=1).values\n",
    "        batch_embeddings = pooled_embeddings.cpu().numpy()\n",
    "        embeddings.append(batch_embeddings)\n",
    "\n",
    "    return np.vstack(embeddings)\n",
    "\n",
    "def process_partition(partition):\n",
    "    query_embeddings = generate_embeddings(partition['query'])\n",
    "    product_title_embeddings = generate_embeddings(partition['product_title'])\n",
    "\n",
    "    combined = torch.cat((torch.tensor(query_embeddings), torch.tensor(product_title_embeddings)), dim=1).numpy()\n",
    "    \n",
    "    print(f'Combined shape: {combined.shape}')  # Expecting (n, 1536)\n",
    "\n",
    "    result = pd.DataFrame(combined, index=partition.index, columns=[f'embedding_{i}' for i in range(combined.shape[1])])\n",
    "\n",
    "    return result\n"
   ]
  },
  {
   "cell_type": "markdown",
   "metadata": {},
   "source": [
    "# Sampling the Data (Ignore when looking at full set) "
   ]
  },
  {
   "cell_type": "code",
   "execution_count": 14,
   "metadata": {},
   "outputs": [],
   "source": [
    "# computes the total number of rows in the df\n",
    "total_rows = task_2_train.shape[0].compute()\n",
    "\n",
    "# calculates the fraction of rows needed to sample 10000 \n",
    "sample_fraction = 10000 / total_rows\n",
    "\n",
    "# samples a fraction of the df \n",
    "task_2_train_sample = task_2_train.sample(frac=sample_fraction, random_state=42)"
   ]
  },
  {
   "cell_type": "code",
   "execution_count": 16,
   "metadata": {},
   "outputs": [],
   "source": [
    "# replicating the same as above but with the test data \n",
    "# computes the total number of rows in the df\n",
    "total_rows2 = task_2_test.shape[0].compute()\n",
    "\n",
    "# calculates the fraction of rows needed to sample \n",
    "sample_fraction2 = 10000 / total_rows2\n",
    "\n",
    "# samples a fraction of the df \n",
    "task_2_test_sample = task_2_test.sample(frac=sample_fraction2, random_state=42)"
   ]
  },
  {
   "cell_type": "markdown",
   "metadata": {},
   "source": [
    "# Computing the Embeddings (Ignore after reading to CSV/NUMPY) "
   ]
  },
  {
   "cell_type": "code",
   "execution_count": 19,
   "metadata": {},
   "outputs": [
    {
     "name": "stdout",
     "output_type": "stream",
     "text": [
      "Combined shape: (1393063, 1536)\n"
     ]
    }
   ],
   "source": [
    "# Computing the Embeddings for Train Data \n",
    "result = task_2_train.map_partitions(process_partition, meta=meta)\n",
    "result = result.compute()"
   ]
  },
  {
   "cell_type": "code",
   "execution_count": 42,
   "metadata": {},
   "outputs": [],
   "source": [
    "# Read it to a CSV \n",
    "result.to_csv('result_train_distilroberta_nopunct.csv')"
   ]
  },
  {
   "cell_type": "code",
   "execution_count": 24,
   "metadata": {},
   "outputs": [],
   "source": [
    "# Read it to a NUMPY \n",
    "result_array = result.to_numpy()\n",
    "np.save('result_train_distilroberta.npy', result_array)"
   ]
  },
  {
   "cell_type": "code",
   "execution_count": 20,
   "metadata": {},
   "outputs": [
    {
     "name": "stdout",
     "output_type": "stream",
     "text": [
      "Combined shape: (425762, 1536)\n"
     ]
    }
   ],
   "source": [
    "# Computing the Embeddings for the Test Data\n",
    "result2 = task_2_test.map_partitions(process_partition, meta=meta)\n",
    "result2 = result2.compute()"
   ]
  },
  {
   "cell_type": "code",
   "execution_count": 43,
   "metadata": {},
   "outputs": [],
   "source": [
    "# Read it to a CSV \n",
    "result2.to_csv('result_test_distilroberta_nopunct.csv')"
   ]
  },
  {
   "cell_type": "code",
   "execution_count": 19,
   "metadata": {},
   "outputs": [],
   "source": [
    "# Read it to a NUMPY \n",
    "result2_array = result2.to_numpy()\n",
    "np.save('result_test_distilroberta.npy', result2_array)"
   ]
  },
  {
   "cell_type": "code",
   "execution_count": null,
   "metadata": {},
   "outputs": [],
   "source": [
    "# rename if redoing the embeddings \n",
    "result = result_train\n",
    "result2 = result_test"
   ]
  },
  {
   "cell_type": "markdown",
   "metadata": {},
   "source": [
    "# Importing Embeddings and Checking Structure "
   ]
  },
  {
   "cell_type": "code",
   "execution_count": 17,
   "metadata": {},
   "outputs": [],
   "source": [
    "# Read in the pre-saved data \n",
    "# This will take a little bit \n",
    "result_train = pd.read_csv('result_train_distilroberta_nopunct.csv', index_col=0)\n",
    "result_test = pd.read_csv('result_test_distilroberta_nopunct.csv', index_col=0)"
   ]
  },
  {
   "cell_type": "code",
   "execution_count": 22,
   "metadata": {},
   "outputs": [
    {
     "name": "stdout",
     "output_type": "stream",
     "text": [
      "   embedding_0  embedding_1  embedding_2  embedding_3  embedding_4  \\\n",
      "0      0.12433     0.127676     0.085034     0.039097     0.297458   \n",
      "1      0.12433     0.127676     0.085034     0.039097     0.297458   \n",
      "2      0.12433     0.127676     0.085034     0.039097     0.297458   \n",
      "3      0.12433     0.127676     0.085034     0.039097     0.297458   \n",
      "4      0.12433     0.127676     0.085034     0.039097     0.297458   \n",
      "\n",
      "   embedding_5  embedding_6  embedding_7  embedding_8  embedding_9  ...  \\\n",
      "0     0.201057     0.026599     0.275267     0.080479     0.023758  ...   \n",
      "1     0.201057     0.026599     0.275267     0.080479     0.023758  ...   \n",
      "2     0.201057     0.026599     0.275267     0.080479     0.023758  ...   \n",
      "3     0.201057     0.026599     0.275267     0.080479     0.023758  ...   \n",
      "4     0.201057     0.026599     0.275267     0.080479     0.023758  ...   \n",
      "\n",
      "   embedding_1526  embedding_1527  embedding_1528  embedding_1529  \\\n",
      "0        0.419537        0.067311        0.201484        0.241278   \n",
      "1        0.467865        0.043466        0.848616        0.212383   \n",
      "2        0.483787        0.045651        0.710833        0.231847   \n",
      "3        0.297858        0.060306        0.156977        0.318434   \n",
      "4        0.220215        0.029279        0.183947        0.285412   \n",
      "\n",
      "   embedding_1530  embedding_1531  embedding_1532  embedding_1533  \\\n",
      "0        0.372731        0.097333        0.512199        0.337288   \n",
      "1        0.384954        0.227479        0.229977        0.485845   \n",
      "2        0.403577        0.278465        0.179675        0.473723   \n",
      "3        0.257543        0.297714        0.308300        0.613999   \n",
      "4        0.345540        0.324563        0.476307        0.216098   \n",
      "\n",
      "   embedding_1534  embedding_1535  \n",
      "0        0.210128        0.265084  \n",
      "1        0.246313        0.191020  \n",
      "2        0.218704        0.204199  \n",
      "3        0.320406        0.193497  \n",
      "4        0.327833        0.249164  \n",
      "\n",
      "[5 rows x 1536 columns]\n"
     ]
    }
   ],
   "source": [
    "print(result_train.head())"
   ]
  },
  {
   "cell_type": "code",
   "execution_count": 23,
   "metadata": {},
   "outputs": [
    {
     "name": "stdout",
     "output_type": "stream",
     "text": [
      "    embedding_0  embedding_1  embedding_2  embedding_3  embedding_4  \\\n",
      "32    -0.010883     0.190984     0.055915    -0.007884     0.761822   \n",
      "33    -0.010883     0.190984     0.055915    -0.007884     0.761822   \n",
      "34    -0.010883     0.190984     0.055915    -0.007884     0.761822   \n",
      "35    -0.010883     0.190984     0.055915    -0.007884     0.761822   \n",
      "36    -0.010883     0.190984     0.055915    -0.007884     0.761822   \n",
      "\n",
      "    embedding_5  embedding_6  embedding_7  embedding_8  embedding_9  ...  \\\n",
      "32    -0.056676     0.139391     0.148942     0.076152     0.198935  ...   \n",
      "33    -0.056676     0.139391     0.148942     0.076152     0.198935  ...   \n",
      "34    -0.056676     0.139391     0.148942     0.076152     0.198935  ...   \n",
      "35    -0.056676     0.139391     0.148942     0.076152     0.198935  ...   \n",
      "36    -0.056676     0.139391     0.148942     0.076152     0.198935  ...   \n",
      "\n",
      "    embedding_1526  embedding_1527  embedding_1528  embedding_1529  \\\n",
      "32        0.324944        0.216839        0.450223        0.265789   \n",
      "33        0.496953        0.183044        0.157143        0.185418   \n",
      "34        0.314205        0.156910        0.263918        0.162166   \n",
      "35        0.169237        0.202975        0.362716        0.269404   \n",
      "36        0.168752        0.204243        0.364423        0.270541   \n",
      "\n",
      "    embedding_1530  embedding_1531  embedding_1532  embedding_1533  \\\n",
      "32        0.334353        0.133519        0.846378        0.381652   \n",
      "33        0.267572        0.204484        0.399763        0.291571   \n",
      "34        0.241328        0.288371        0.466821        0.482665   \n",
      "35        0.400321        0.196305        0.293185        0.571676   \n",
      "36        0.398730        0.222317        0.297511        0.528670   \n",
      "\n",
      "    embedding_1534  embedding_1535  \n",
      "32        0.188842        0.321210  \n",
      "33        0.171360        0.186993  \n",
      "34        0.159687        0.190096  \n",
      "35        0.258902        0.315144  \n",
      "36        0.275760        0.322171  \n",
      "\n",
      "[5 rows x 1536 columns]\n"
     ]
    }
   ],
   "source": [
    "print(result_test.head())"
   ]
  },
  {
   "cell_type": "code",
   "execution_count": null,
   "metadata": {},
   "outputs": [],
   "source": [
    "# Read it in as a numpy array \n",
    "# result = np.load('result_train_distilroberta.npy')\n",
    "# result2 = np.load('result_test_distilroberta.npy')"
   ]
  },
  {
   "cell_type": "code",
   "execution_count": 41,
   "metadata": {},
   "outputs": [],
   "source": [
    "# Converting from DASK to Pandas \n",
    "task_2_train = task_2_train.compute()\n",
    "task_2_test = task_2_test.compute()"
   ]
  },
  {
   "cell_type": "code",
   "execution_count": 42,
   "metadata": {},
   "outputs": [
    {
     "name": "stdout",
     "output_type": "stream",
     "text": [
      "<class 'pandas.core.frame.DataFrame'>\n",
      "<class 'pandas.core.frame.DataFrame'>\n",
      "<class 'pandas.core.frame.DataFrame'>\n",
      "<class 'pandas.core.frame.DataFrame'>\n"
     ]
    }
   ],
   "source": [
    "# this should all be the same: pandas.core.frame.DataFrame\n",
    "print(type(task_2_train))\n",
    "print(type(task_2_test))\n",
    "print(type(result_train))\n",
    "print(type(result_test))"
   ]
  },
  {
   "cell_type": "markdown",
   "metadata": {},
   "source": [
    "# Creating the Multi-Layer Preceptron Model"
   ]
  },
  {
   "cell_type": "code",
   "execution_count": 43,
   "metadata": {},
   "outputs": [],
   "source": [
    "# mlp with maxpooling \n",
    "class MLP(nn.Module):\n",
    "    def __init__(self, input_size, hidden_size, num_classes):\n",
    "        super().__init__()\n",
    "        self.fc1 = nn.Linear(input_size, hidden_size)  \n",
    "        self.relu = nn.ReLU()\n",
    "        self.pool = nn.MaxPool1d(kernel_size=2, stride=2)  \n",
    "        self.dropout = nn.Dropout(0.1)\n",
    "        self.fc2 = nn.Linear(hidden_size // 2, num_classes)\n",
    "\n",
    "    def forward(self, x):\n",
    "        # flatten the input \n",
    "        x = torch.flatten(x, 1) \n",
    "        x = self.fc1(x)\n",
    "        x = self.relu(x)\n",
    "        x = x.unsqueeze(1)\n",
    "        x = self.pool(x)  \n",
    "        # flatten the pooled output \n",
    "        x = x.view(x.size(0), -1) \n",
    "        # apply the 10% dropout \n",
    "        x = self.dropout(x)\n",
    "        x = self.fc2(x)\n",
    "        \n",
    "        return x"
   ]
  },
  {
   "cell_type": "code",
   "execution_count": 44,
   "metadata": {},
   "outputs": [],
   "source": [
    "# Inputting the Parameters\n",
    "\n",
    "# Size of the concatenated embeddings(768 + 768)\n",
    "input_size = 1536  \n",
    "hidden_size = 128\n",
    "# number of classes Exact, Substitute, Complement, Irrelevant (4)\n",
    "num_classes = 4 \n",
    "\n",
    "# initialize the model, loss, and optimizer\n",
    "model = MLP(input_size, hidden_size, num_classes).to(device)\n",
    "criterion = nn.CrossEntropyLoss()\n",
    "\n",
    "# for the training hyperparameter configuration \n",
    "# Adam Optimizer with parameters: epsilon (1e-8), learning rate (5e-5) and weight decay (0.01)\n",
    "optimizer = optim.Adam(model.parameters(), lr=5e-5, eps=1e-8, weight_decay=0.01)\n"
   ]
  },
  {
   "cell_type": "markdown",
   "metadata": {},
   "source": [
    "# Data Loading "
   ]
  },
  {
   "cell_type": "markdown",
   "metadata": {},
   "source": [
    "## Labeling Indicies"
   ]
  },
  {
   "cell_type": "code",
   "execution_count": 45,
   "metadata": {},
   "outputs": [],
   "source": [
    "task_2_train_indices = task_2_train.index.astype(int)\n",
    "subset_labels = task_2_train['encoded_labels']\n",
    "subset_labels = subset_labels.to_frame()"
   ]
  },
  {
   "cell_type": "code",
   "execution_count": 46,
   "metadata": {},
   "outputs": [],
   "source": [
    "task_2_test_indices = task_2_test.index.astype(int)\n",
    "subset_labels2 = task_2_test['encoded_labels']\n",
    "subset_labels2 = subset_labels2.to_frame()"
   ]
  },
  {
   "cell_type": "code",
   "execution_count": 47,
   "metadata": {},
   "outputs": [],
   "source": [
    "# not needed if not sampling \n",
    "result_train = result_train.sort_index()\n",
    "result_test = result_test.sort_index()"
   ]
  },
  {
   "cell_type": "code",
   "execution_count": 31,
   "metadata": {},
   "outputs": [
    {
     "name": "stdout",
     "output_type": "stream",
     "text": [
      "         encoded_labels\n",
      "0                     3\n",
      "1                     0\n",
      "2                     0\n",
      "3                     0\n",
      "4                     0\n",
      "...                 ...\n",
      "1818820               3\n",
      "1818821               0\n",
      "1818822               0\n",
      "1818823               3\n",
      "1818824               0\n",
      "\n",
      "[1393063 rows x 1 columns]\n"
     ]
    }
   ],
   "source": [
    "# checking the training labels \n",
    "print(subset_labels)"
   ]
  },
  {
   "cell_type": "code",
   "execution_count": 32,
   "metadata": {},
   "outputs": [
    {
     "name": "stdout",
     "output_type": "stream",
     "text": [
      "         encoded_labels\n",
      "32                    3\n",
      "33                    3\n",
      "34                    0\n",
      "35                    1\n",
      "36                    1\n",
      "...                 ...\n",
      "1818788               0\n",
      "1818789               3\n",
      "1818790               3\n",
      "1818791               3\n",
      "1818792               0\n",
      "\n",
      "[425762 rows x 1 columns]\n"
     ]
    }
   ],
   "source": [
    "# checking the test labels \n",
    "print(subset_labels2)"
   ]
  },
  {
   "cell_type": "code",
   "execution_count": 48,
   "metadata": {},
   "outputs": [
    {
     "name": "stdout",
     "output_type": "stream",
     "text": [
      "Shape of embeddings: (1393063, 1536)\n"
     ]
    }
   ],
   "source": [
    "class ESCIDataset(Dataset):\n",
    "    def __init__(self, embeddings, labels):\n",
    "        self.embeddings = embeddings.values\n",
    "        # this should be (size, 1563)\n",
    "        print(\"Shape of embeddings:\", self.embeddings.shape)\n",
    "        self.labels = labels   \n",
    "\n",
    "    def __len__(self):\n",
    "        return len(self.labels)\n",
    "\n",
    "    def __getitem__(self, idx):\n",
    "        return self.embeddings[idx], self.labels[idx]\n",
    "\n",
    "# create DataLoader\n",
    "train_dataset = ESCIDataset(embeddings=result_train, labels=subset_labels['encoded_labels'].values)\n",
    "train_loader = DataLoader(train_dataset, batch_size=32, shuffle=True) # adjust the batch size as needed "
   ]
  },
  {
   "cell_type": "code",
   "execution_count": 49,
   "metadata": {},
   "outputs": [
    {
     "name": "stdout",
     "output_type": "stream",
     "text": [
      "Shape of embeddings: (425762, 1536)\n"
     ]
    }
   ],
   "source": [
    "# making the test loader \n",
    "test_dataset = ESCIDataset(embeddings=result_test, labels=subset_labels2['encoded_labels'].values)\n",
    "test_loader = DataLoader(test_dataset, batch_size=32, shuffle=False) "
   ]
  },
  {
   "cell_type": "code",
   "execution_count": 50,
   "metadata": {},
   "outputs": [
    {
     "name": "stdout",
     "output_type": "stream",
     "text": [
      "Length of embeddings: 1393063\n",
      "Length of labels: 1393063\n"
     ]
    }
   ],
   "source": [
    "# these should be the same length \n",
    "print(\"Length of embeddings:\", len(train_dataset.embeddings))\n",
    "print(\"Length of labels:\", len(train_dataset.labels))"
   ]
  },
  {
   "cell_type": "code",
   "execution_count": 51,
   "metadata": {},
   "outputs": [
    {
     "name": "stdout",
     "output_type": "stream",
     "text": [
      "Type of embeddings: <class 'numpy.ndarray'>\n",
      "Type of labels: <class 'numpy.ndarray'>\n"
     ]
    }
   ],
   "source": [
    "# these should both be 'numpy.ndarray' or theres a problem \n",
    "print(\"Type of embeddings:\", type(train_dataset.embeddings))\n",
    "print(\"Type of labels:\", type(train_dataset.labels))"
   ]
  },
  {
   "cell_type": "code",
   "execution_count": 52,
   "metadata": {},
   "outputs": [
    {
     "name": "stdout",
     "output_type": "stream",
     "text": [
      "sample 0 - embedding: [0.12432991 0.12767594 0.0850341  ... 0.33728772 0.21012834 0.26508397], label: 3\n",
      "sample 1 - embedding: [0.12432991 0.12767594 0.0850341  ... 0.48584455 0.24631253 0.19101998], label: 0\n",
      "sample 2 - embedding: [0.12432991 0.12767594 0.0850341  ... 0.47372347 0.21870442 0.20419931], label: 0\n",
      "sample 3 - embedding: [0.12432991 0.12767594 0.0850341  ... 0.61399883 0.32040575 0.19349714], label: 0\n",
      "sample 4 - embedding: [0.12432991 0.12767594 0.0850341  ... 0.2160977  0.32783297 0.24916403], label: 0\n"
     ]
    }
   ],
   "source": [
    "# look at the samples to double check everything is looking right \n",
    "for i in range(5):  \n",
    "    embedding, label = train_dataset[i]\n",
    "    print(f\"sample {i} - embedding: {embedding}, label: {label}\")"
   ]
  },
  {
   "cell_type": "code",
   "execution_count": 53,
   "metadata": {},
   "outputs": [
    {
     "name": "stdout",
     "output_type": "stream",
     "text": [
      "Epoch 1/4, Loss: 0.8373\n",
      "Epoch 2/4, Loss: 0.8317\n",
      "Epoch 3/4, Loss: 0.8309\n",
      "Epoch 4/4, Loss: 0.8309\n"
     ]
    }
   ],
   "source": [
    "# training loop\n",
    "def train_model(model, train_loader, criterion, optimizer, num_epochs=4):\n",
    "    model.train()  # set model to training mode\n",
    "    for epoch in range(num_epochs):\n",
    "        epoch_loss = 0\n",
    "        for batch_idx, (embeddings, labels) in enumerate(train_loader):\n",
    "            embeddings, labels = embeddings.to(device), labels.to(device)\n",
    "\n",
    "            optimizer.zero_grad()  \n",
    "            outputs = model(embeddings.float()) \n",
    "            # converting the labels to long \n",
    "            labels = labels.long()\n",
    "            # calculate the loss \n",
    "            loss = criterion(outputs, labels) \n",
    "            # backpropogation \n",
    "            loss.backward() \n",
    "            # updating the weights \n",
    "            optimizer.step()  \n",
    "\n",
    "            # add up the loss \n",
    "            epoch_loss += loss.item()  \n",
    "\n",
    "        print(f\"Epoch {epoch + 1}/{num_epochs}, Loss: {epoch_loss / len(train_loader):.4f}\")\n",
    "\n",
    "train_model(model, train_loader, criterion, optimizer)\n"
   ]
  },
  {
   "cell_type": "code",
   "execution_count": 54,
   "metadata": {},
   "outputs": [],
   "source": [
    "# evaluation and output the f1 score \n",
    "def evaluate_model(test_loader, model):\n",
    "    model.eval()\n",
    "    all_preds = []\n",
    "    all_labels = []\n",
    "    \n",
    "    with torch.no_grad():\n",
    "        for inputs, labels in test_loader:\n",
    "            # needed to change this to floats \n",
    "            inputs = inputs.float().to(device)\n",
    "            outputs = model(inputs)\n",
    "            _, preds = torch.max(outputs, 1)\n",
    "            all_preds.extend(preds.cpu().numpy())\n",
    "            all_labels.extend(labels.numpy())\n",
    "            \n",
    "    # evaluate on the f1 score with micro averages\n",
    "    return f1_score(all_labels, all_preds, average='micro')"
   ]
  },
  {
   "cell_type": "code",
   "execution_count": 55,
   "metadata": {},
   "outputs": [
    {
     "name": "stdout",
     "output_type": "stream",
     "text": [
      "micro F1 Score: 0.6514\n"
     ]
    }
   ],
   "source": [
    "# evaluating the model\n",
    "f1 = evaluate_model(test_loader, model)\n",
    "print(f'micro F1 Score: {f1:.4f}')"
   ]
  },
  {
   "cell_type": "markdown",
   "metadata": {},
   "source": [
    "# Finding Mismatches"
   ]
  },
  {
   "cell_type": "code",
   "execution_count": 56,
   "metadata": {},
   "outputs": [
    {
     "name": "stderr",
     "output_type": "stream",
     "text": [
      "/tmp/ipykernel_173410/3143127466.py:20: SettingWithCopyWarning: \n",
      "A value is trying to be set on a copy of a slice from a DataFrame.\n",
      "Try using .loc[row_indexer,col_indexer] = value instead\n",
      "\n",
      "See the caveats in the documentation: https://pandas.pydata.org/pandas-docs/stable/user_guide/indexing.html#returning-a-view-versus-a-copy\n",
      "  test_df['predicted_label'] = all_preds\n",
      "/tmp/ipykernel_173410/3143127466.py:21: SettingWithCopyWarning: \n",
      "A value is trying to be set on a copy of a slice from a DataFrame.\n",
      "Try using .loc[row_indexer,col_indexer] = value instead\n",
      "\n",
      "See the caveats in the documentation: https://pandas.pydata.org/pandas-docs/stable/user_guide/indexing.html#returning-a-view-versus-a-copy\n",
      "  test_df['true_label'] = all_labels\n"
     ]
    }
   ],
   "source": [
    "def evaluate_and_capture_mismatches(test_loader, model, task_2_test):\n",
    "    model.eval()\n",
    "    all_preds = []\n",
    "    all_labels = []\n",
    "    \n",
    "    with torch.no_grad():\n",
    "        for inputs, labels in test_loader:\n",
    "            inputs = inputs.float().to(device)\n",
    "            outputs = model(inputs)\n",
    "            _, preds = torch.max(outputs, 1)\n",
    "            all_preds.extend(preds.cpu().numpy())\n",
    "            all_labels.extend(labels.cpu().numpy())\n",
    "\n",
    "    # convert task_2_test to pandas df if it's a dask df\n",
    "    if hasattr(task_2_test, 'compute'):\n",
    "        test_df = task_2_test[['query', 'product_title', 'encoded_labels']].compute()\n",
    "    else:\n",
    "        test_df = task_2_test[['query', 'product_title', 'encoded_labels']]\n",
    "\n",
    "    test_df['predicted_label'] = all_preds\n",
    "    test_df['true_label'] = all_labels\n",
    "    \n",
    "    mismatch_df = test_df[test_df['true_label'] != test_df['predicted_label']]\n",
    "    \n",
    "    # added test to make the confusion matrix \n",
    "    return test_df, mismatch_df\n",
    "\n",
    "test_df, mismatch_df = evaluate_and_capture_mismatches(test_loader, model, task_2_test)"
   ]
  },
  {
   "cell_type": "code",
   "execution_count": 57,
   "metadata": {},
   "outputs": [
    {
     "name": "stdout",
     "output_type": "stream",
     "text": [
      "Top 10 queries with the most mismatches:\n",
      " query\n",
      "fitbit charge 3                            65\n",
      "apple earbuds                              60\n",
      "firestick                                  56\n",
      "airpods 2                                  53\n",
      "futon frames full size without mattress    48\n",
      "dek pro                                    48\n",
      "kindle                                     46\n",
      "keep grinding hat                          42\n",
      "shaggy dog board game                      42\n",
      "marvel against humanity game               42\n",
      "Name: count, dtype: int64\n",
      "\n",
      "Top 10 most common words in mismatched entries:\n",
      " [('for', 66848), ('-', 44889), ('with', 39984), ('and', 38192), ('&', 19200), ('of', 15107), ('|', 11940), ('Black', 11830), ('without', 10697), ('to', 9763)]\n"
     ]
    }
   ],
   "source": [
    "# count top 10 mismatches per query\n",
    "mismatch_counts_per_query = mismatch_df['query'].value_counts().head(10) \n",
    "mismatch_counts_per_product = mismatch_df['product_title'].value_counts().head(10)\n",
    "\n",
    "all_text = ' '.join(mismatch_df['query'].tolist() + mismatch_df['product_title'].tolist())\n",
    "word_counts = Counter(all_text.split()).most_common(10)  # Top 10 common words\n",
    "\n",
    "print(\"Top 10 queries with the most mismatches:\\n\", mismatch_counts_per_query)\n",
    "print(\"\\nTop 10 most common words in mismatched entries:\\n\", word_counts)"
   ]
  },
  {
   "cell_type": "markdown",
   "metadata": {},
   "source": [
    "# Making a Confusion Matrix"
   ]
  },
  {
   "cell_type": "code",
   "execution_count": 62,
   "metadata": {
    "scrolled": false
   },
   "outputs": [
    {
     "data": {
      "image/png": "[encoded data removed]",
      "text/plain": [
       "<Figure size 1000x800 with 2 Axes>"
      ]
     },
     "metadata": {},
     "output_type": "display_data"
    }
   ],
   "source": [
    "# make the confusion matrix\n",
    "true_labels = test_df['true_label']\n",
    "predicted_labels = test_df['predicted_label']\n",
    "\n",
    "cm = confusion_matrix(true_labels, predicted_labels)\n",
    "\n",
    "plt.figure(figsize=(10, 8))\n",
    "sns.heatmap(cm, annot=True, fmt='d', cmap='Blues', xticklabels=['E', 'S', 'C', 'I'], yticklabels=['E', 'S', 'C', 'I'])\n",
    "plt.xlabel('Predicted Labels')\n",
    "plt.ylabel('True Labels')\n",
    "plt.title('Distill Roberta Confusion Matrix')\n",
    "plt.show()\n"
   ]
  },
  {
   "cell_type": "markdown",
   "metadata": {},
   "source": [
    "# Using the alldistilroberta-v1"
   ]
  },
  {
   "cell_type": "code",
   "execution_count": 15,
   "metadata": {},
   "outputs": [],
   "source": [
    "tokenizer = AutoTokenizer.from_pretrained('sentence-transformers/all-distilroberta-v1')\n",
    "model = AutoModel.from_pretrained('sentence-transformers/all-distilroberta-v1').to(device)\n",
    "\n",
    "for param in model.parameters():\n",
    "    param.requires_grad = False\n",
    "\n",
    "def generate_embeddings(texts):\n",
    "    batch_size = 128  # adjust this size\n",
    "    embeddings = []\n",
    "\n",
    "    for i in range(0, len(texts), batch_size):\n",
    "        batch = texts[i:i + batch_size]\n",
    "        inputs = tokenizer(batch.tolist(), return_tensors='pt', padding=True, truncation=True, max_length=512)\n",
    "        inputs = {key: value.to(device) for key, value in inputs.items()}\n",
    "\n",
    "        with torch.no_grad():\n",
    "            outputs = model(**inputs)\n",
    "\n",
    "        batch_embeddings = outputs.last_hidden_state[:, 0, :].cpu().numpy()\n",
    "        embeddings.append(batch_embeddings)\n",
    "\n",
    "    return np.vstack(embeddings)\n",
    "\n",
    "def process_partition(partition):\n",
    "    query_embeddings = generate_embeddings(partition['query'])\n",
    "    product_title_embeddings = generate_embeddings(partition['product_title'])\n",
    "\n",
    "    combined = torch.cat((torch.tensor(query_embeddings), torch.tensor(product_title_embeddings)), dim=1).numpy()\n",
    "    \n",
    "    print(f'Combined shape: {combined.shape}')  # Expecting (n, 1536)\n",
    "\n",
    "    result = pd.DataFrame(combined, index=partition.index, columns=[f'embedding_{i}' for i in range(combined.shape[1])])\n",
    "\n",
    "    return result"
   ]
  },
  {
   "cell_type": "code",
   "execution_count": 16,
   "metadata": {},
   "outputs": [],
   "source": [
    "# creating a data frame and enerate column names\n",
    "meta = pd.DataFrame(columns=[f'embedding_{i}' for i in range(2 * 768)], dtype='float64')"
   ]
  },
  {
   "cell_type": "markdown",
   "metadata": {},
   "source": [
    "# Ignore once embeddings are created "
   ]
  },
  {
   "cell_type": "code",
   "execution_count": 15,
   "metadata": {},
   "outputs": [
    {
     "name": "stdout",
     "output_type": "stream",
     "text": [
      "Combined shape: (1393063, 1536)\n"
     ]
    }
   ],
   "source": [
    "# Computing the Embeddings for Train Data \n",
    "result = task_2_train.map_partitions(process_partition, meta=meta)\n",
    "result = result.compute()"
   ]
  },
  {
   "cell_type": "code",
   "execution_count": 18,
   "metadata": {},
   "outputs": [],
   "source": [
    "# Read it to a CSV \n",
    "result.to_csv('result_train_all-distilroberta-v1_nopunct.csv')"
   ]
  },
  {
   "cell_type": "code",
   "execution_count": 18,
   "metadata": {},
   "outputs": [],
   "source": [
    "# Read it to a NUMPY \n",
    "result_array = result.to_numpy()\n",
    "np.save('result_train_all-distilroberta-v1.npy', result_array)"
   ]
  },
  {
   "cell_type": "code",
   "execution_count": 16,
   "metadata": {},
   "outputs": [
    {
     "name": "stdout",
     "output_type": "stream",
     "text": [
      "Combined shape: (425762, 1536)\n"
     ]
    }
   ],
   "source": [
    "# Computing the Embeddings for the Test Data\n",
    "result2 = task_2_test.map_partitions(process_partition, meta=meta)\n",
    "result2 = result2.compute()"
   ]
  },
  {
   "cell_type": "code",
   "execution_count": 23,
   "metadata": {},
   "outputs": [],
   "source": [
    "# Read it to a CSV \n",
    "result2.to_csv('result_test_all-distilroberta-v1_nopunct.csv')"
   ]
  },
  {
   "cell_type": "code",
   "execution_count": 21,
   "metadata": {},
   "outputs": [],
   "source": [
    "# Read it to a NUMPY \n",
    "result2_array = result2.to_numpy()\n",
    "np.save('result_test_all-distilroberta-v1.npy', result2_array)"
   ]
  },
  {
   "cell_type": "markdown",
   "metadata": {},
   "source": [
    "# using the balanced dataset!"
   ]
  },
  {
   "cell_type": "code",
   "execution_count": 23,
   "metadata": {},
   "outputs": [
    {
     "name": "stdout",
     "output_type": "stream",
     "text": [
      "Combined shape: (116508, 1536)\n"
     ]
    }
   ],
   "source": [
    "# computing the embeddings for the balanced data set!!\n",
    "result = balanced_train.map_partitions(process_partition, meta=meta)\n",
    "result = result.compute()"
   ]
  },
  {
   "cell_type": "code",
   "execution_count": 24,
   "metadata": {},
   "outputs": [],
   "source": [
    "result.to_csv('balanced_train.csv')"
   ]
  },
  {
   "cell_type": "code",
   "execution_count": 28,
   "metadata": {},
   "outputs": [
    {
     "name": "stdout",
     "output_type": "stream",
     "text": [
      "Index(['example_id', 'query', 'query_id', 'product_id', 'product_locale',\n",
      "       'esci_label', 'small_version', 'large_version', 'split',\n",
      "       'product_title', 'product_description', 'product_bullet_point',\n",
      "       'product_brand', 'product_color', 'encoded_labels'],\n",
      "      dtype='object')\n",
      "Index(['example_id', 'query', 'query_id', 'product_id', 'product_locale',\n",
      "       'esci_label', 'small_version', 'large_version', 'split',\n",
      "       'product_title', 'product_description', 'product_bullet_point',\n",
      "       'product_brand', 'product_color', 'encoded_labels'],\n",
      "      dtype='object')\n",
      "Index(['example_id', 'query', 'query_id', 'product_id', 'product_locale',\n",
      "       'esci_label', 'small_version', 'large_version', 'split',\n",
      "       'product_title', 'product_description', 'product_bullet_point',\n",
      "       'product_brand', 'product_color', 'encoded_labels'],\n",
      "      dtype='object')\n",
      "Index(['example_id', 'query', 'query_id', 'product_id', 'product_locale',\n",
      "       'esci_label', 'small_version', 'large_version', 'split',\n",
      "       'product_title', 'product_description', 'product_bullet_point',\n",
      "       'product_brand', 'product_color', 'encoded_labels'],\n",
      "      dtype='object')\n"
     ]
    }
   ],
   "source": [
    "print(task_2_train_C.columns)\n",
    "print(task_2_train_sample_E.columns)\n",
    "print(task_2_train_sample_S.columns)\n",
    "print(task_2_train_sample_I.columns)"
   ]
  },
  {
   "cell_type": "code",
   "execution_count": null,
   "metadata": {},
   "outputs": [],
   "source": [
    "result_train = result\n",
    "result_test = result2"
   ]
  },
  {
   "cell_type": "markdown",
   "metadata": {},
   "source": [
    "# Data loading the all-distilroberta Data"
   ]
  },
  {
   "cell_type": "code",
   "execution_count": 15,
   "metadata": {},
   "outputs": [],
   "source": [
    "# read in the train and test \n",
    "result_train = pd.read_csv('balanced_train.csv', index_col=0)\n",
    "result_test = pd.read_csv('result_test_all-distilroberta-v1_nopunct.csv', index_col=0)"
   ]
  },
  {
   "cell_type": "code",
   "execution_count": 17,
   "metadata": {},
   "outputs": [],
   "source": [
    "# Converting from DASK to Pandas \n",
    "task_2_train = task_2_train.compute()\n",
    "task_2_test = task_2_test.compute()"
   ]
  },
  {
   "cell_type": "code",
   "execution_count": 18,
   "metadata": {},
   "outputs": [
    {
     "name": "stdout",
     "output_type": "stream",
     "text": [
      "<class 'pandas.core.frame.DataFrame'>\n",
      "<class 'pandas.core.frame.DataFrame'>\n",
      "<class 'pandas.core.frame.DataFrame'>\n",
      "<class 'pandas.core.frame.DataFrame'>\n"
     ]
    }
   ],
   "source": [
    "# this should all be the same: pandas.core.frame.DataFrame\n",
    "print(type(task_2_train))\n",
    "print(type(task_2_test))\n",
    "print(type(result_train))\n",
    "print(type(result_test))"
   ]
  },
  {
   "cell_type": "markdown",
   "metadata": {},
   "source": [
    "# Establishing the MLP"
   ]
  },
  {
   "cell_type": "code",
   "execution_count": 19,
   "metadata": {},
   "outputs": [],
   "source": [
    "class MLP(nn.Module):\n",
    "    def __init__(self, input_size, hidden_size, num_classes):\n",
    "        super().__init__()\n",
    "        self.fc1 = nn.Linear(input_size, hidden_size)  \n",
    "        self.relu = nn.ReLU()\n",
    "        self.pool = nn.MaxPool1d(kernel_size=2, stride=2)  \n",
    "        self.dropout = nn.Dropout(0.1)\n",
    "        self.fc2 = nn.Linear(hidden_size // 2, num_classes)\n",
    "\n",
    "    def forward(self, x):\n",
    "        # flatten the input \n",
    "        x = torch.flatten(x, 1) \n",
    "        x = self.fc1(x)\n",
    "        x = self.relu(x)\n",
    "        x = x.unsqueeze(1)\n",
    "        x = self.pool(x)  \n",
    "        # flatten the pooled output \n",
    "        x = x.view(x.size(0), -1) \n",
    "        # apply the 10% dropout \n",
    "        x = self.dropout(x)\n",
    "        x = self.fc2(x)\n",
    "        \n",
    "        return x"
   ]
  },
  {
   "cell_type": "code",
   "execution_count": 20,
   "metadata": {},
   "outputs": [],
   "source": [
    "# Inputting the Parameters\n",
    "\n",
    "# Size of the concatenated embeddings(768 + 768)\n",
    "input_size = 1536  \n",
    "hidden_size = 128\n",
    "# number of classes Exact, Substitute, Complement, Irrelevant (4)\n",
    "num_classes = 4 \n",
    "\n",
    "# initialize the model, loss, and optimizer\n",
    "model = MLP(input_size, hidden_size, num_classes).to(device)\n",
    "criterion = nn.CrossEntropyLoss()\n",
    "\n",
    "# for the training hyperparameter configuration \n",
    "# Adam Optimizer with parameters: epsilon (1e-8), learning rate (5e-5) and weight decay (0.01)\n",
    "optimizer = optim.Adam(model.parameters(), lr=5e-5, eps=1e-8, weight_decay=0.01)"
   ]
  },
  {
   "cell_type": "markdown",
   "metadata": {},
   "source": [
    "# Using Softmax MLP "
   ]
  },
  {
   "cell_type": "code",
   "execution_count": 39,
   "metadata": {},
   "outputs": [],
   "source": [
    "class MLPsoftmax(nn.Module):\n",
    "    def __init__(self, input_size, hidden_size, num_layers):\n",
    "        super(MLPsoftmax, self).__init__()\n",
    "        self.fc1 = nn.Linear(input_size, hidden_size)\n",
    "        self.dropout = nn.Dropout(p=0.1)\n",
    "        self.maxpool = nn.MaxPool1d(kernel_size=2, stride=2)\n",
    "        pooled_output_size = hidden_size // 2\n",
    "        self.fc2 = nn.Linear(pooled_output_size, num_layers)\n",
    "        self.softmax = nn.Softmax(dim=1)\n",
    "\n",
    "    def forward(self, x):\n",
    "        x = torch.flatten(x, 1).float()\n",
    "        # will need to download a package for F\n",
    "        x = F.relu(self.fc1(x))\n",
    "        x = x.unsqueeze(1)\n",
    "\n",
    "        x = self.maxpool(x)\n",
    "        x = x.view(x.size(0), -1)\n",
    "\n",
    "        x = self.dropout(x)\n",
    "        x = self.fc2(x)\n",
    "        x = self.softmax(x)\n",
    "        return x"
   ]
  },
  {
   "cell_type": "code",
   "execution_count": 40,
   "metadata": {},
   "outputs": [],
   "source": [
    "input_size = 1536 \n",
    "hidden_size = 128\n",
    "num_layers = 4\n",
    "\n",
    "model = MLPsoftmax(input_size, hidden_size, num_layers).to(device)\n",
    "optimizer = optim.Adam(model.parameters(), lr=5e-5, eps=1e-8, weight_decay=0.01)"
   ]
  },
  {
   "cell_type": "markdown",
   "metadata": {},
   "source": [
    "# Labeling Indicies and Data loading"
   ]
  },
  {
   "cell_type": "markdown",
   "metadata": {},
   "source": [
    "### If youre using the balcanced dataset skip to the balanced data section below "
   ]
  },
  {
   "cell_type": "code",
   "execution_count": 41,
   "metadata": {},
   "outputs": [],
   "source": [
    "task_2_train_indices = task_2_train.index.astype(int)\n",
    "subset_labels = task_2_train['encoded_labels']\n",
    "subset_labels = subset_labels.to_frame()"
   ]
  },
  {
   "cell_type": "code",
   "execution_count": 42,
   "metadata": {},
   "outputs": [],
   "source": [
    "task_2_test_indices = task_2_test.index.astype(int)\n",
    "subset_labels2 = task_2_test['encoded_labels']\n",
    "subset_labels2 = subset_labels2.to_frame()"
   ]
  },
  {
   "cell_type": "code",
   "execution_count": 43,
   "metadata": {},
   "outputs": [],
   "source": [
    "# not needed if not sampling \n",
    "result_train = result_train.sort_index()\n",
    "result_test = result_test.sort_index()"
   ]
  },
  {
   "cell_type": "code",
   "execution_count": 34,
   "metadata": {},
   "outputs": [
    {
     "name": "stdout",
     "output_type": "stream",
     "text": [
      "Shape of embeddings: (116508, 1536)\n"
     ]
    }
   ],
   "source": [
    "class ESCIDataset(Dataset):\n",
    "    def __init__(self, embeddings, labels):\n",
    "        self.embeddings = embeddings.values\n",
    "        # should be (size, 1563)\n",
    "        print(\"Shape of embeddings:\", self.embeddings.shape)\n",
    "        self.labels = labels   \n",
    "\n",
    "    def __len__(self):\n",
    "        return len(self.labels)\n",
    "\n",
    "    def __getitem__(self, idx):\n",
    "        return self.embeddings[idx], self.labels[idx]\n",
    "\n",
    "# create DataLoader\n",
    "train_dataset = ESCIDataset(embeddings=result_train, labels=subset_labels['encoded_labels'].values)\n",
    "train_loader = DataLoader(train_dataset, batch_size=32, shuffle=True) # adjust the batch size as needed "
   ]
  },
  {
   "cell_type": "code",
   "execution_count": 45,
   "metadata": {},
   "outputs": [
    {
     "name": "stdout",
     "output_type": "stream",
     "text": [
      "Shape of embeddings: (425762, 1536)\n"
     ]
    }
   ],
   "source": [
    "# making the test loader \n",
    "test_dataset = ESCIDataset(embeddings=result_test, labels=subset_labels2['encoded_labels'].values)\n",
    "test_loader = DataLoader(test_dataset, batch_size=32, shuffle=False) "
   ]
  },
  {
   "cell_type": "markdown",
   "metadata": {},
   "source": [
    "# Getting the Probabilities of the Confusion Matrix (with the softmax)"
   ]
  },
  {
   "cell_type": "code",
   "execution_count": 46,
   "metadata": {},
   "outputs": [
    {
     "name": "stdout",
     "output_type": "stream",
     "text": [
      "Epoch 1/4\n",
      "Batch 1 probabilities:\n",
      "tensor([[0.2266, 0.2542, 0.3227, 0.1964],\n",
      "        [0.2852, 0.2350, 0.2435, 0.2363],\n",
      "        [0.2804, 0.2609, 0.2242, 0.2345],\n",
      "        [0.2417, 0.2878, 0.2305, 0.2400],\n",
      "        [0.2695, 0.2817, 0.2374, 0.2114]], grad_fn=<SliceBackward0>)\n",
      "Epoch 2/4\n",
      "Batch 1 probabilities:\n",
      "tensor([[0.2154, 0.2800, 0.2167, 0.2879],\n",
      "        [0.2278, 0.2580, 0.2190, 0.2952],\n",
      "        [0.2379, 0.2709, 0.2648, 0.2263],\n",
      "        [0.2335, 0.2536, 0.2523, 0.2606],\n",
      "        [0.2397, 0.2918, 0.2220, 0.2464]], grad_fn=<SliceBackward0>)\n",
      "Epoch 3/4\n",
      "Batch 1 probabilities:\n",
      "tensor([[0.2775, 0.2583, 0.2509, 0.2133],\n",
      "        [0.2529, 0.2380, 0.2439, 0.2652],\n",
      "        [0.2601, 0.2624, 0.2272, 0.2503],\n",
      "        [0.3138, 0.2678, 0.2095, 0.2089],\n",
      "        [0.2350, 0.2640, 0.2585, 0.2425]], grad_fn=<SliceBackward0>)\n",
      "Epoch 4/4\n",
      "Batch 1 probabilities:\n",
      "tensor([[0.2627, 0.2471, 0.2616, 0.2286],\n",
      "        [0.2439, 0.2776, 0.2456, 0.2329],\n",
      "        [0.3208, 0.2202, 0.2512, 0.2078],\n",
      "        [0.2398, 0.2995, 0.2415, 0.2192],\n",
      "        [0.2479, 0.2617, 0.2520, 0.2384]], grad_fn=<SliceBackward0>)\n"
     ]
    }
   ],
   "source": [
    "def train_model_without_loss(model, train_loader, num_epochs=4):\n",
    "    model.train()  # Set model to training model\n",
    "\n",
    "    for epoch in range(num_epochs):\n",
    "        print(f\"Epoch {epoch + 1}/{num_epochs}\")\n",
    "        \n",
    "        for batch_idx, (embeddings, labels) in enumerate(train_loader):\n",
    "            # Move embeddings and labels to the device\n",
    "            embeddings = embeddings.to(device).float()\n",
    "            \n",
    "            # Forward pass to get probabilities\n",
    "            outputs = model(embeddings)  # Outputs are softmax probabilities\n",
    "            \n",
    "            # Store or analyze the probabilities\n",
    "            # For example, you can print the first batch probabilities\n",
    "            if batch_idx == 0:\n",
    "                print(f\"Batch {batch_idx + 1} probabilities:\\n{outputs[:5]}\") \n",
    "                \n",
    "train_model_without_loss(model, train_loader)"
   ]
  },
  {
   "cell_type": "code",
   "execution_count": 47,
   "metadata": {},
   "outputs": [],
   "source": [
    "all_probabilities = []\n",
    "\n",
    "for batch_idx, (embeddings, labels) in enumerate(train_loader):\n",
    "    embeddings = embeddings.to(device).float()\n",
    "    outputs = model(embeddings)\n",
    "    all_probabilities.append(outputs.detach().cpu().numpy())  # Append to list\n",
    "\n",
    "# Combine all probabilities into a single array\n",
    "import numpy as np\n",
    "all_probabilities = np.vstack(all_probabilities)"
   ]
  },
  {
   "cell_type": "markdown",
   "metadata": {},
   "source": [
    "# Training and Testing "
   ]
  },
  {
   "cell_type": "code",
   "execution_count": 29,
   "metadata": {},
   "outputs": [
    {
     "name": "stdout",
     "output_type": "stream",
     "text": [
      "Epoch 1/4, Loss: 0.8047\n",
      "Epoch 2/4, Loss: 0.7897\n",
      "Epoch 3/4, Loss: 0.7850\n",
      "Epoch 4/4, Loss: 0.7831\n"
     ]
    }
   ],
   "source": [
    "# training loop\n",
    "def train_model(model, train_loader, criterion, optimizer, num_epochs=4):\n",
    "    model.train()  # set model to training mode\n",
    "    for epoch in range(num_epochs):\n",
    "        epoch_loss = 0\n",
    "        for batch_idx, (embeddings, labels) in enumerate(train_loader):\n",
    "            embeddings, labels = embeddings.to(device), labels.to(device)\n",
    "\n",
    "            optimizer.zero_grad()  \n",
    "            outputs = model(embeddings.float()) \n",
    "            # converting the labels to long \n",
    "            labels = labels.long()\n",
    "            # calculate the loss \n",
    "            loss = criterion(outputs, labels) \n",
    "            # backpropogation \n",
    "            loss.backward() \n",
    "            # updating the weights \n",
    "            optimizer.step()  \n",
    "\n",
    "            # add up the loss \n",
    "            epoch_loss += loss.item()  \n",
    "\n",
    "        print(f\"Epoch {epoch + 1}/{num_epochs}, Loss: {epoch_loss / len(train_loader):.4f}\")\n",
    "\n",
    "train_model(model, train_loader, criterion, optimizer)"
   ]
  },
  {
   "cell_type": "code",
   "execution_count": 30,
   "metadata": {},
   "outputs": [],
   "source": [
    "# evaluation and output the f1 score \n",
    "def evaluate_model(test_loader, model):\n",
    "    model.eval()\n",
    "    all_preds = []\n",
    "    all_labels = []\n",
    "    \n",
    "    with torch.no_grad():\n",
    "        for inputs, labels in test_loader:\n",
    "            # needed to change this to floats \n",
    "            inputs = inputs.float().to(device)\n",
    "            outputs = model(inputs)\n",
    "            _, preds = torch.max(outputs, 1)\n",
    "            all_preds.extend(preds.cpu().numpy())\n",
    "            all_labels.extend(labels.numpy())\n",
    "            \n",
    "    # evaluate on the f1 score with micro averages\n",
    "    return f1_score(all_labels, all_preds, average='micro')"
   ]
  },
  {
   "cell_type": "code",
   "execution_count": 31,
   "metadata": {},
   "outputs": [
    {
     "name": "stdout",
     "output_type": "stream",
     "text": [
      "micro F1 Score: 0.6584\n"
     ]
    }
   ],
   "source": [
    "# evaluating the model\n",
    "# ran it earlier and got 0.6577\n",
    "# now have 0.6562\n",
    "f1 = evaluate_model(test_loader, model)\n",
    "print(f'micro F1 Score: {f1:.4f}')"
   ]
  },
  {
   "cell_type": "markdown",
   "metadata": {},
   "source": [
    "# Detecting and Looking at Mismatches"
   ]
  },
  {
   "cell_type": "code",
   "execution_count": 32,
   "metadata": {},
   "outputs": [
    {
     "name": "stderr",
     "output_type": "stream",
     "text": [
      "/tmp/ipykernel_141619/3143127466.py:20: SettingWithCopyWarning: \n",
      "A value is trying to be set on a copy of a slice from a DataFrame.\n",
      "Try using .loc[row_indexer,col_indexer] = value instead\n",
      "\n",
      "See the caveats in the documentation: https://pandas.pydata.org/pandas-docs/stable/user_guide/indexing.html#returning-a-view-versus-a-copy\n",
      "  test_df['predicted_label'] = all_preds\n",
      "/tmp/ipykernel_141619/3143127466.py:21: SettingWithCopyWarning: \n",
      "A value is trying to be set on a copy of a slice from a DataFrame.\n",
      "Try using .loc[row_indexer,col_indexer] = value instead\n",
      "\n",
      "See the caveats in the documentation: https://pandas.pydata.org/pandas-docs/stable/user_guide/indexing.html#returning-a-view-versus-a-copy\n",
      "  test_df['true_label'] = all_labels\n"
     ]
    }
   ],
   "source": [
    "def evaluate_and_capture_mismatches(test_loader, model, task_2_test):\n",
    "    model.eval()\n",
    "    all_preds = []\n",
    "    all_labels = []\n",
    "    \n",
    "    with torch.no_grad():\n",
    "        for inputs, labels in test_loader:\n",
    "            inputs = inputs.float().to(device)\n",
    "            outputs = model(inputs)\n",
    "            _, preds = torch.max(outputs, 1)\n",
    "            all_preds.extend(preds.cpu().numpy())\n",
    "            all_labels.extend(labels.cpu().numpy())\n",
    "\n",
    "    # convert task_2_test to pandas df if it's a dask df\n",
    "    if hasattr(task_2_test, 'compute'):\n",
    "        test_df = task_2_test[['query', 'product_title', 'encoded_labels']].compute()\n",
    "    else:\n",
    "        test_df = task_2_test[['query', 'product_title', 'encoded_labels']]\n",
    "\n",
    "    test_df['predicted_label'] = all_preds\n",
    "    test_df['true_label'] = all_labels\n",
    "    \n",
    "    mismatch_df = test_df[test_df['true_label'] != test_df['predicted_label']]\n",
    "    \n",
    "    # added test to make the confusion matrix \n",
    "    return test_df, mismatch_df\n",
    "\n",
    "test_df, mismatch_df = evaluate_and_capture_mismatches(test_loader, model, task_2_test)"
   ]
  },
  {
   "cell_type": "code",
   "execution_count": 33,
   "metadata": {},
   "outputs": [
    {
     "name": "stdout",
     "output_type": "stream",
     "text": [
      "Top 10 queries with the most mismatches:\n",
      " query\n",
      "fitbit charge 3                            64\n",
      "apple earbuds                              60\n",
      "firestick                                  56\n",
      "futon frames full size without mattress    48\n",
      "airpods 2                                  47\n",
      "kindle                                     46\n",
      "dek pro                                    46\n",
      "keep grinding hat                          42\n",
      "shaggy dog board game                      42\n",
      "apple earphones                            40\n",
      "Name: count, dtype: int64\n",
      "\n",
      "Top 10 most common words in mismatched entries:\n",
      " [('for', 65718), ('-', 43901), ('with', 38964), ('and', 37094), ('&', 18816), ('of', 14529), ('Black', 11477), ('|', 11407), ('without', 10341), ('2', 9396)]\n"
     ]
    }
   ],
   "source": [
    "# count top 10 mismatches per query\n",
    "mismatch_counts_per_query = mismatch_df['query'].value_counts().head(10) \n",
    "mismatch_counts_per_product = mismatch_df['product_title'].value_counts().head(10)\n",
    "\n",
    "all_text = ' '.join(mismatch_df['query'].tolist() + mismatch_df['product_title'].tolist())\n",
    "word_counts = Counter(all_text.split()).most_common(10)  # Top 10 common words\n",
    "\n",
    "print(\"Top 10 queries with the most mismatches:\\n\", mismatch_counts_per_query)\n",
    "print(\"\\nTop 10 most common words in mismatched entries:\\n\", word_counts)"
   ]
  },
  {
   "cell_type": "code",
   "execution_count": 34,
   "metadata": {},
   "outputs": [
    {
     "data": {
      "image/png": "[encoded data removed]",
      "text/plain": [
       "<Figure size 1000x800 with 2 Axes>"
      ]
     },
     "metadata": {},
     "output_type": "display_data"
    }
   ],
   "source": [
    "# make the confusion matrix\n",
    "true_labels = test_df['true_label']\n",
    "predicted_labels = test_df['predicted_label']\n",
    "\n",
    "cm = confusion_matrix(true_labels, predicted_labels)\n",
    "\n",
    "plt.figure(figsize=(10, 8))\n",
    "sns.heatmap(cm, annot=True, fmt='d', cmap='Blues', xticklabels=['E', 'S', 'C', 'I'], yticklabels=['E', 'S', 'C', 'I'])\n",
    "plt.xlabel('Predicted Labels')\n",
    "plt.ylabel('True Labels')\n",
    "plt.title('alldistilroberta-v1 Confusion Matrix')\n",
    "plt.show()\n"
   ]
  },
  {
   "cell_type": "markdown",
   "metadata": {},
   "source": [
    "# using the balanced data set for testing and training "
   ]
  },
  {
   "cell_type": "code",
   "execution_count": 21,
   "metadata": {},
   "outputs": [],
   "source": [
    "# making sure the indicies are in the same data format \n",
    "subset_indices = result_train.index\n",
    "subset_indices = subset_indices.astype(int)\n",
    "task_2_train_indices = task_2_train.index.astype(int)\n",
    "\n",
    "# getting the indexes that were used in the sample group of embeddings\n",
    "# maing sure they are also in the og training set \n",
    "valid_indices = task_2_train_indices[task_2_train_indices.isin(subset_indices)]\n",
    "\n",
    "# making subset labels which filters the train dataset to get the labels the correspond to the embeddings \n",
    "subset_labels = task_2_train.loc[valid_indices, 'encoded_labels'] \n",
    "# make it into a dataframe\n",
    "subset_labels = subset_labels.to_frame()"
   ]
  },
  {
   "cell_type": "code",
   "execution_count": 22,
   "metadata": {},
   "outputs": [],
   "source": [
    "subset_indices2 = result_test.index\n",
    "subset_indices2 = subset_indices2.astype(int)\n",
    "task_2_test_indices = task_2_test.index.astype(int)\n",
    "\n",
    "# getting the indexes that were used in the sample group of embeddings\n",
    "# maing sure they are also in the og training set \n",
    "valid_indices2 = task_2_test_indices[task_2_test_indices.isin(subset_indices2)]\n",
    "\n",
    "# making subset labels which filters the train dataset to get the labels the correspond to the embeddings \n",
    "subset_labels2 = task_2_test.loc[valid_indices2, 'encoded_labels'] \n",
    "# make it into a dataframe\n",
    "subset_labels2 = subset_labels2.to_frame()"
   ]
  },
  {
   "cell_type": "code",
   "execution_count": 23,
   "metadata": {},
   "outputs": [],
   "source": [
    "result_train = result_train.sort_index()\n",
    "result_test = result_test.sort_index()"
   ]
  },
  {
   "cell_type": "code",
   "execution_count": 24,
   "metadata": {},
   "outputs": [
    {
     "name": "stdout",
     "output_type": "stream",
     "text": [
      "Shape of embeddings: (116508, 1536)\n"
     ]
    }
   ],
   "source": [
    "class ESCIDataset(Dataset):\n",
    "    def __init__(self, embeddings, labels):\n",
    "        self.embeddings = embeddings.values\n",
    "        print(\"Shape of embeddings:\", self.embeddings.shape)\n",
    "        self.labels = labels   \n",
    "\n",
    "    def __len__(self):\n",
    "        return len(self.labels)\n",
    "\n",
    "    def __getitem__(self, idx):\n",
    "        return self.embeddings[idx], self.labels[idx]\n",
    "\n",
    "# create DataLoader\n",
    "train_dataset = ESCIDataset(embeddings=result_train, labels=subset_labels['encoded_labels'].values)\n",
    "train_loader = DataLoader(train_dataset, batch_size=32, shuffle=True) # adjust the batch size as needed "
   ]
  },
  {
   "cell_type": "code",
   "execution_count": 25,
   "metadata": {},
   "outputs": [
    {
     "name": "stdout",
     "output_type": "stream",
     "text": [
      "Shape of embeddings: (425762, 1536)\n"
     ]
    }
   ],
   "source": [
    "test_dataset = ESCIDataset(embeddings=result_test, labels=subset_labels2['encoded_labels'].values)\n",
    "test_loader = DataLoader(test_dataset, batch_size=32, shuffle=False) "
   ]
  },
  {
   "cell_type": "code",
   "execution_count": 26,
   "metadata": {},
   "outputs": [
    {
     "name": "stdout",
     "output_type": "stream",
     "text": [
      "Epoch 1/4, Loss: 1.2577\n",
      "Epoch 2/4, Loss: 1.2085\n",
      "Epoch 3/4, Loss: 1.1882\n",
      "Epoch 4/4, Loss: 1.1723\n"
     ]
    }
   ],
   "source": [
    "# training loop\n",
    "def train_model(model, train_loader, criterion, optimizer, num_epochs=4):\n",
    "    model.train()  # set model to training mode\n",
    "    for epoch in range(num_epochs):\n",
    "        epoch_loss = 0\n",
    "        for batch_idx, (embeddings, labels) in enumerate(train_loader):\n",
    "            embeddings, labels = embeddings.to(device), labels.to(device)\n",
    "\n",
    "            optimizer.zero_grad()  # Clear previous gradients\n",
    "            outputs = model(embeddings.float())  # Forward pass\n",
    "            # converting the labels to long in order to \n",
    "            labels = labels.long()\n",
    "            # calculate the loss \n",
    "            loss = criterion(outputs, labels) \n",
    "            # backpropogation \n",
    "            loss.backward() \n",
    "            # updating the weights \n",
    "            optimizer.step()  \n",
    "\n",
    "            # add up the loss \n",
    "            epoch_loss += loss.item()  \n",
    "\n",
    "        print(f\"Epoch {epoch + 1}/{num_epochs}, Loss: {epoch_loss / len(train_loader):.4f}\")\n",
    "\n",
    "train_model(model, train_loader, criterion, optimizer)"
   ]
  },
  {
   "cell_type": "code",
   "execution_count": 27,
   "metadata": {},
   "outputs": [],
   "source": [
    "# evaluation and output the f1 score \n",
    "def evaluate_model(test_loader, model):\n",
    "    model.eval()\n",
    "    all_preds = []\n",
    "    all_labels = []\n",
    "    \n",
    "    with torch.no_grad():\n",
    "        for inputs, labels in test_loader:\n",
    "            # needed to change this to floats \n",
    "            inputs = inputs.float().to(device)\n",
    "            outputs = model(inputs)\n",
    "            _, preds = torch.max(outputs, 1)\n",
    "            all_preds.extend(preds.cpu().numpy())\n",
    "            all_labels.extend(labels.numpy())\n",
    "            \n",
    "    # evaluate on the f1 score with micro averages\n",
    "    return f1_score(all_labels, all_preds, average='micro')"
   ]
  },
  {
   "cell_type": "code",
   "execution_count": 28,
   "metadata": {},
   "outputs": [
    {
     "name": "stdout",
     "output_type": "stream",
     "text": [
      "micro F1 Score: 0.4067\n"
     ]
    }
   ],
   "source": [
    "f1 = evaluate_model(test_loader, model)\n",
    "print(f'micro F1 Score: {f1:.4f}')"
   ]
  },
  {
   "cell_type": "code",
   "execution_count": 29,
   "metadata": {},
   "outputs": [
    {
     "name": "stderr",
     "output_type": "stream",
     "text": [
      "/tmp/ipykernel_19599/3143127466.py:20: SettingWithCopyWarning: \n",
      "A value is trying to be set on a copy of a slice from a DataFrame.\n",
      "Try using .loc[row_indexer,col_indexer] = value instead\n",
      "\n",
      "See the caveats in the documentation: https://pandas.pydata.org/pandas-docs/stable/user_guide/indexing.html#returning-a-view-versus-a-copy\n",
      "  test_df['predicted_label'] = all_preds\n",
      "/tmp/ipykernel_19599/3143127466.py:21: SettingWithCopyWarning: \n",
      "A value is trying to be set on a copy of a slice from a DataFrame.\n",
      "Try using .loc[row_indexer,col_indexer] = value instead\n",
      "\n",
      "See the caveats in the documentation: https://pandas.pydata.org/pandas-docs/stable/user_guide/indexing.html#returning-a-view-versus-a-copy\n",
      "  test_df['true_label'] = all_labels\n"
     ]
    }
   ],
   "source": [
    "def evaluate_and_capture_mismatches(test_loader, model, task_2_test):\n",
    "    model.eval()\n",
    "    all_preds = []\n",
    "    all_labels = []\n",
    "    \n",
    "    with torch.no_grad():\n",
    "        for inputs, labels in test_loader:\n",
    "            inputs = inputs.float().to(device)\n",
    "            outputs = model(inputs)\n",
    "            _, preds = torch.max(outputs, 1)\n",
    "            all_preds.extend(preds.cpu().numpy())\n",
    "            all_labels.extend(labels.cpu().numpy())\n",
    "\n",
    "    # convert task_2_test to pandas df if it's a dask df\n",
    "    if hasattr(task_2_test, 'compute'):\n",
    "        test_df = task_2_test[['query', 'product_title', 'encoded_labels']].compute()\n",
    "    else:\n",
    "        test_df = task_2_test[['query', 'product_title', 'encoded_labels']]\n",
    "\n",
    "    test_df['predicted_label'] = all_preds\n",
    "    test_df['true_label'] = all_labels\n",
    "    \n",
    "    mismatch_df = test_df[test_df['true_label'] != test_df['predicted_label']]\n",
    "    \n",
    "    # added test to make the confusion matrix \n",
    "    return test_df, mismatch_df\n",
    "\n",
    "test_df, mismatch_df = evaluate_and_capture_mismatches(test_loader, model, task_2_test)"
   ]
  },
  {
   "cell_type": "code",
   "execution_count": 30,
   "metadata": {},
   "outputs": [
    {
     "name": "stdout",
     "output_type": "stream",
     "text": [
      "Top 10 queries with the most mismatches:\n",
      " query\n",
      "cap toe brown shoes                  68\n",
      "yeti                                 64\n",
      "macbook air                          62\n",
      "nintendo switch                      62\n",
      "apple earbuds                        60\n",
      "fire pit                             60\n",
      "apple earphones                      59\n",
      "iphone headphones                    58\n",
      "smart watch                          58\n",
      "outdoor ceiling fan without light    58\n",
      "Name: count, dtype: int64\n",
      "\n",
      "Top 10 most common words in mismatched entries:\n",
      " [('for', 110177), ('-', 75220), ('with', 63692), ('and', 59625), ('&', 29716), ('of', 23891), ('Black', 19986), ('|', 18287), ('2', 17181), ('to', 15232)]\n"
     ]
    }
   ],
   "source": [
    "mismatch_counts_per_query = mismatch_df['query'].value_counts().head(10) \n",
    "mismatch_counts_per_product = mismatch_df['product_title'].value_counts().head(10)\n",
    "\n",
    "all_text = ' '.join(mismatch_df['query'].tolist() + mismatch_df['product_title'].tolist())\n",
    "word_counts = Counter(all_text.split()).most_common(10)  # Top 10 common words\n",
    "\n",
    "print(\"Top 10 queries with the most mismatches:\\n\", mismatch_counts_per_query)\n",
    "print(\"\\nTop 10 most common words in mismatched entries:\\n\", word_counts)"
   ]
  },
  {
   "cell_type": "code",
   "execution_count": 32,
   "metadata": {},
   "outputs": [
    {
     "data": {
      "image/png": "[encoded data removed]",
      "text/plain": [
       "<Figure size 1000x800 with 2 Axes>"
      ]
     },
     "metadata": {},
     "output_type": "display_data"
    }
   ],
   "source": [
    "true_labels = test_df['true_label']\n",
    "predicted_labels = test_df['predicted_label']\n",
    "\n",
    "cm = confusion_matrix(true_labels, predicted_labels)\n",
    "\n",
    "plt.figure(figsize=(10, 8))\n",
    "sns.heatmap(cm, annot=True, fmt='d', cmap='Blues', xticklabels=['E', 'S', 'C', 'I'], yticklabels=['E', 'S', 'C', 'I'])\n",
    "plt.xlabel('Predicted Labels')\n",
    "plt.ylabel('True Labels')\n",
    "plt.title('alldistilroberta-v1 Balanced Data Confusion Matrix')\n",
    "plt.show()\n"
   ]
  },
  {
   "cell_type": "code",
   "execution_count": null,
   "metadata": {},
   "outputs": [],
   "source": []
  }
 ],
 "metadata": {
  "kernelspec": {
   "display_name": "Python 3 (ipykernel)",
   "language": "python",
   "name": "python3"
  },
  "language_info": {
   "codemirror_mode": {
    "name": "ipython",
    "version": 3
   },
   "file_extension": ".py",
   "mimetype": "text/x-python",
   "name": "python",
   "nbconvert_exporter": "python",
   "pygments_lexer": "ipython3",
   "version": "3.11.5"
  }
 },
 "nbformat": 4,
 "nbformat_minor": 2
}

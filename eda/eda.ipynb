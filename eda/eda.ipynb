{
 "cells": [
  {
   "cell_type": "code",
   "execution_count": 1,
   "metadata": {},
   "outputs": [],
   "source": [
    "import pandas as pd\n",
    "import os"
   ]
  },
  {
   "cell_type": "markdown",
   "metadata": {},
   "source": [
    "## 1. Load Data"
   ]
  },
  {
   "cell_type": "code",
   "execution_count": 2,
   "metadata": {},
   "outputs": [],
   "source": [
    "examples_path = os.path.join('..', 'data', 'shopping_queries_dataset_examples.parquet')\n",
    "products_path = os.path.join('..', 'data', 'shopping_queries_dataset_products.parquet')\n",
    "sources_path = os.path.join('..', 'data', 'shopping_queries_dataset_sources.csv')\n",
    "\n",
    "examples = pd.read_parquet(examples_path)\n",
    "products = pd.read_parquet(products_path)\n",
    "sources = pd.read_csv(sources_path)"
   ]
  },
  {
   "cell_type": "markdown",
   "metadata": {},
   "source": [
    "## 2. Clean and Split Data"
   ]
  },
  {
   "cell_type": "markdown",
   "metadata": {},
   "source": [
    "Merging data and filtering down to English only by selecting locale = US"
   ]
  },
  {
   "cell_type": "code",
   "execution_count": 3,
   "metadata": {},
   "outputs": [],
   "source": [
    "examples_products = pd.merge(\n",
    "    examples,\n",
    "    products,\n",
    "    how='left',\n",
    "    left_on=['product_locale','product_id'],\n",
    "    right_on=['product_locale', 'product_id']\n",
    ")\n",
    "\n",
    "examples_products = examples_products[examples_products['product_locale'] == 'us']"
   ]
  },
  {
   "cell_type": "markdown",
   "metadata": {},
   "source": [
    "Separating dataset into reduced and large version - reduced version will be used for task 1, large version will be used for tasks 2 and 3"
   ]
  },
  {
   "cell_type": "code",
   "execution_count": 4,
   "metadata": {},
   "outputs": [],
   "source": [
    "reduced = examples_products[examples_products['small_version'] == 1]\n",
    "large = examples_products[examples_products['large_version'] == 1]"
   ]
  },
  {
   "cell_type": "markdown",
   "metadata": {},
   "source": [
    "## 3. Reduced Data EDA"
   ]
  },
  {
   "cell_type": "code",
   "execution_count": 5,
   "metadata": {},
   "outputs": [
    {
     "name": "stdout",
     "output_type": "stream",
     "text": [
      "Reduced data shape: (601354, 14)\n"
     ]
    }
   ],
   "source": [
    "print(f'Reduced data shape: {reduced.shape}')"
   ]
  },
  {
   "cell_type": "code",
   "execution_count": 7,
   "metadata": {},
   "outputs": [
    {
     "name": "stdout",
     "output_type": "stream",
     "text": [
      "Columns and datatype info:\n",
      "<class 'pandas.core.frame.DataFrame'>\n",
      "Index: 601354 entries, 16 to 2618569\n",
      "Data columns (total 14 columns):\n",
      " #   Column                Non-Null Count   Dtype \n",
      "---  ------                --------------   ----- \n",
      " 0   example_id            601354 non-null  int64 \n",
      " 1   query                 601354 non-null  object\n",
      " 2   query_id              601354 non-null  int64 \n",
      " 3   product_id            601354 non-null  object\n",
      " 4   product_locale        601354 non-null  object\n",
      " 5   esci_label            601354 non-null  object\n",
      " 6   small_version         601354 non-null  int64 \n",
      " 7   large_version         601354 non-null  int64 \n",
      " 8   split                 601354 non-null  object\n",
      " 9   product_title         601354 non-null  object\n",
      " 10  product_description   301110 non-null  object\n",
      " 11  product_bullet_point  531226 non-null  object\n",
      " 12  product_brand         571704 non-null  object\n",
      " 13  product_color         416407 non-null  object\n",
      "dtypes: int64(4), object(10)\n",
      "memory usage: 68.8+ MB\n",
      "None\n"
     ]
    }
   ],
   "source": [
    "print('Columns and datatype info:')\n",
    "print(reduced.info())"
   ]
  },
  {
   "cell_type": "code",
   "execution_count": 8,
   "metadata": {},
   "outputs": [
    {
     "name": "stdout",
     "output_type": "stream",
     "text": [
      "Null values:\n",
      "example_id                   0\n",
      "query                        0\n",
      "query_id                     0\n",
      "product_id                   0\n",
      "product_locale               0\n",
      "esci_label                   0\n",
      "small_version                0\n",
      "large_version                0\n",
      "split                        0\n",
      "product_title                0\n",
      "product_description     300244\n",
      "product_bullet_point     70128\n",
      "product_brand            29650\n",
      "product_color           184947\n",
      "dtype: int64\n"
     ]
    }
   ],
   "source": [
    "print(f'Null values:\\n{reduced.isnull().sum()}')"
   ]
  }
 ],
 "metadata": {
  "kernelspec": {
   "display_name": "env",
   "language": "python",
   "name": "python3"
  },
  "language_info": {
   "codemirror_mode": {
    "name": "ipython",
    "version": 3
   },
   "file_extension": ".py",
   "mimetype": "text/x-python",
   "name": "python",
   "nbconvert_exporter": "python",
   "pygments_lexer": "ipython3",
   "version": "3.11.8"
  }
 },
 "nbformat": 4,
 "nbformat_minor": 2
}

{
 "cells": [
  {
   "cell_type": "code",
   "execution_count": 1,
   "metadata": {},
   "outputs": [],
   "source": [
    "import pandas as pd\n",
    "import os\n",
    "import numpy as np\n",
    "import matplotlib.pyplot as plt"
   ]
  },
  {
   "cell_type": "markdown",
   "metadata": {},
   "source": [
    "## 1. Load Data"
   ]
  },
  {
   "cell_type": "code",
   "execution_count": 2,
   "metadata": {},
   "outputs": [],
   "source": [
    "examples_path = os.path.join('..', 'data', 'shopping_queries_dataset_examples.parquet')\n",
    "products_path = os.path.join('..', 'data', 'shopping_queries_dataset_products.parquet')\n",
    "sources_path = os.path.join('..', 'data', 'shopping_queries_dataset_sources.csv')\n",
    "\n",
    "examples = pd.read_parquet(examples_path)\n",
    "products = pd.read_parquet(products_path)\n",
    "sources = pd.read_csv(sources_path)"
   ]
  },
  {
   "cell_type": "markdown",
   "metadata": {},
   "source": [
    "## 2. Merge and Filter Data"
   ]
  },
  {
   "cell_type": "markdown",
   "metadata": {},
   "source": [
    "Merging data and filtering down to English only by selecting locale = US"
   ]
  },
  {
   "cell_type": "code",
   "execution_count": 3,
   "metadata": {},
   "outputs": [],
   "source": [
    "examples_products = pd.merge(\n",
    "    examples,\n",
    "    products,\n",
    "    how='left',\n",
    "    left_on=['product_locale','product_id'],\n",
    "    right_on=['product_locale', 'product_id']\n",
    ")\n",
    "\n",
    "examples_products = examples_products[examples_products['product_locale'] == 'us']"
   ]
  },
  {
   "cell_type": "markdown",
   "metadata": {},
   "source": [
    "Separating dataset into reduced and large version - reduced version will be used for task 1, large version will be used for tasks 2 and 3"
   ]
  },
  {
   "cell_type": "code",
   "execution_count": 4,
   "metadata": {},
   "outputs": [],
   "source": [
    "reduced = examples_products[examples_products['small_version'] == 1]\n",
    "large = examples_products[examples_products['large_version'] == 1]"
   ]
  },
  {
   "cell_type": "markdown",
   "metadata": {},
   "source": [
    "## 3. Combined Data EDA"
   ]
  },
  {
   "cell_type": "code",
   "execution_count": 26,
   "metadata": {},
   "outputs": [
    {
     "data": {
      "text/html": [
       "<div>\n",
       "<style scoped>\n",
       "    .dataframe tbody tr th:only-of-type {\n",
       "        vertical-align: middle;\n",
       "    }\n",
       "\n",
       "    .dataframe tbody tr th {\n",
       "        vertical-align: top;\n",
       "    }\n",
       "\n",
       "    .dataframe thead th {\n",
       "        text-align: right;\n",
       "    }\n",
       "</style>\n",
       "<table border=\"1\" class=\"dataframe\">\n",
       "  <thead>\n",
       "    <tr style=\"text-align: right;\">\n",
       "      <th></th>\n",
       "      <th>example_id</th>\n",
       "      <th>query</th>\n",
       "      <th>query_id</th>\n",
       "      <th>product_id</th>\n",
       "      <th>product_locale</th>\n",
       "      <th>esci_label</th>\n",
       "      <th>small_version</th>\n",
       "      <th>large_version</th>\n",
       "      <th>split</th>\n",
       "      <th>product_title</th>\n",
       "      <th>product_description</th>\n",
       "      <th>product_bullet_point</th>\n",
       "      <th>product_brand</th>\n",
       "      <th>product_color</th>\n",
       "      <th>query_length</th>\n",
       "      <th>product_title_length</th>\n",
       "    </tr>\n",
       "  </thead>\n",
       "  <tbody>\n",
       "    <tr>\n",
       "      <th>0</th>\n",
       "      <td>0</td>\n",
       "      <td>revent 80 cfm</td>\n",
       "      <td>0</td>\n",
       "      <td>B000MOO21W</td>\n",
       "      <td>us</td>\n",
       "      <td>I</td>\n",
       "      <td>0</td>\n",
       "      <td>1</td>\n",
       "      <td>train</td>\n",
       "      <td>Panasonic FV-20VQ3 WhisperCeiling 190 CFM Ceil...</td>\n",
       "      <td>None</td>\n",
       "      <td>WhisperCeiling fans feature a totally enclosed...</td>\n",
       "      <td>Panasonic</td>\n",
       "      <td>White</td>\n",
       "      <td>14</td>\n",
       "      <td>61</td>\n",
       "    </tr>\n",
       "    <tr>\n",
       "      <th>1</th>\n",
       "      <td>1</td>\n",
       "      <td>revent 80 cfm</td>\n",
       "      <td>0</td>\n",
       "      <td>B07X3Y6B1V</td>\n",
       "      <td>us</td>\n",
       "      <td>E</td>\n",
       "      <td>0</td>\n",
       "      <td>1</td>\n",
       "      <td>train</td>\n",
       "      <td>Homewerks 7141-80 Bathroom Fan Integrated LED ...</td>\n",
       "      <td>None</td>\n",
       "      <td>OUTSTANDING PERFORMANCE: This Homewerk's bath ...</td>\n",
       "      <td>Homewerks</td>\n",
       "      <td>80 CFM</td>\n",
       "      <td>14</td>\n",
       "      <td>104</td>\n",
       "    </tr>\n",
       "    <tr>\n",
       "      <th>2</th>\n",
       "      <td>2</td>\n",
       "      <td>revent 80 cfm</td>\n",
       "      <td>0</td>\n",
       "      <td>B07WDM7MQQ</td>\n",
       "      <td>us</td>\n",
       "      <td>E</td>\n",
       "      <td>0</td>\n",
       "      <td>1</td>\n",
       "      <td>train</td>\n",
       "      <td>Homewerks 7140-80 Bathroom Fan Ceiling Mount E...</td>\n",
       "      <td>None</td>\n",
       "      <td>OUTSTANDING PERFORMANCE: This Homewerk's bath ...</td>\n",
       "      <td>Homewerks</td>\n",
       "      <td>White</td>\n",
       "      <td>14</td>\n",
       "      <td>90</td>\n",
       "    </tr>\n",
       "    <tr>\n",
       "      <th>3</th>\n",
       "      <td>3</td>\n",
       "      <td>revent 80 cfm</td>\n",
       "      <td>0</td>\n",
       "      <td>B07RH6Z8KW</td>\n",
       "      <td>us</td>\n",
       "      <td>E</td>\n",
       "      <td>0</td>\n",
       "      <td>1</td>\n",
       "      <td>train</td>\n",
       "      <td>Delta Electronics RAD80L BreezRadiance 80 CFM ...</td>\n",
       "      <td>This pre-owned or refurbished product has been...</td>\n",
       "      <td>Quiet operation at 1.5 sones\\nBuilt-in thermos...</td>\n",
       "      <td>DELTA ELECTRONICS (AMERICAS) LTD.</td>\n",
       "      <td>White</td>\n",
       "      <td>14</td>\n",
       "      <td>84</td>\n",
       "    </tr>\n",
       "    <tr>\n",
       "      <th>4</th>\n",
       "      <td>4</td>\n",
       "      <td>revent 80 cfm</td>\n",
       "      <td>0</td>\n",
       "      <td>B07QJ7WYFQ</td>\n",
       "      <td>us</td>\n",
       "      <td>E</td>\n",
       "      <td>0</td>\n",
       "      <td>1</td>\n",
       "      <td>train</td>\n",
       "      <td>Panasonic FV-08VRE2 Ventilation Fan with Reces...</td>\n",
       "      <td>None</td>\n",
       "      <td>The design solution for Fan/light combinations...</td>\n",
       "      <td>Panasonic</td>\n",
       "      <td>White</td>\n",
       "      <td>14</td>\n",
       "      <td>63</td>\n",
       "    </tr>\n",
       "    <tr>\n",
       "      <th>...</th>\n",
       "      <td>...</td>\n",
       "      <td>...</td>\n",
       "      <td>...</td>\n",
       "      <td>...</td>\n",
       "      <td>...</td>\n",
       "      <td>...</td>\n",
       "      <td>...</td>\n",
       "      <td>...</td>\n",
       "      <td>...</td>\n",
       "      <td>...</td>\n",
       "      <td>...</td>\n",
       "      <td>...</td>\n",
       "      <td>...</td>\n",
       "      <td>...</td>\n",
       "      <td>...</td>\n",
       "      <td>...</td>\n",
       "    </tr>\n",
       "    <tr>\n",
       "      <th>2618565</th>\n",
       "      <td>2618565</td>\n",
       "      <td>자전거트레일러</td>\n",
       "      <td>130539</td>\n",
       "      <td>B06XTZYJL3</td>\n",
       "      <td>us</td>\n",
       "      <td>I</td>\n",
       "      <td>1</td>\n",
       "      <td>1</td>\n",
       "      <td>train</td>\n",
       "      <td>Nilight - ZH003 20Inch 126W Spot Flood Combo L...</td>\n",
       "      <td>None</td>\n",
       "      <td>Super bright beam: High intensity 3W LED chips...</td>\n",
       "      <td>Nilight</td>\n",
       "      <td>None</td>\n",
       "      <td>7</td>\n",
       "      <td>170</td>\n",
       "    </tr>\n",
       "    <tr>\n",
       "      <th>2618566</th>\n",
       "      <td>2618566</td>\n",
       "      <td>자전거트레일러</td>\n",
       "      <td>130539</td>\n",
       "      <td>B010LLGWL8</td>\n",
       "      <td>us</td>\n",
       "      <td>E</td>\n",
       "      <td>1</td>\n",
       "      <td>1</td>\n",
       "      <td>train</td>\n",
       "      <td>Burley Honey Bee, 2 Seat Kids Bike Trailer &amp; S...</td>\n",
       "      <td>None</td>\n",
       "      <td>Sport Type: Cycling</td>\n",
       "      <td>Burley Design</td>\n",
       "      <td>Red</td>\n",
       "      <td>7</td>\n",
       "      <td>58</td>\n",
       "    </tr>\n",
       "    <tr>\n",
       "      <th>2618567</th>\n",
       "      <td>2618567</td>\n",
       "      <td>자전거트레일러</td>\n",
       "      <td>130539</td>\n",
       "      <td>B010LLGWKE</td>\n",
       "      <td>us</td>\n",
       "      <td>E</td>\n",
       "      <td>1</td>\n",
       "      <td>1</td>\n",
       "      <td>train</td>\n",
       "      <td>BURLEY Design Bee, 2 Seat, Lightweight, Kids B...</td>\n",
       "      <td>None</td>\n",
       "      <td>sport type: Cycling</td>\n",
       "      <td>Burley Design</td>\n",
       "      <td>Yellow</td>\n",
       "      <td>7</td>\n",
       "      <td>79</td>\n",
       "    </tr>\n",
       "    <tr>\n",
       "      <th>2618568</th>\n",
       "      <td>2618568</td>\n",
       "      <td>자전거트레일러</td>\n",
       "      <td>130539</td>\n",
       "      <td>B003CUBPUY</td>\n",
       "      <td>us</td>\n",
       "      <td>I</td>\n",
       "      <td>1</td>\n",
       "      <td>1</td>\n",
       "      <td>train</td>\n",
       "      <td>Bell 20-Inch Universal Inner Tube, Width Fit R...</td>\n",
       "      <td>None</td>\n",
       "      <td>Mold cured rubber for consistent side wall–pre...</td>\n",
       "      <td>BELL</td>\n",
       "      <td>20\"x1.75-2.25\" Schrader</td>\n",
       "      <td>7</td>\n",
       "      <td>73</td>\n",
       "    </tr>\n",
       "    <tr>\n",
       "      <th>2618569</th>\n",
       "      <td>2618569</td>\n",
       "      <td>자전거트레일러</td>\n",
       "      <td>130539</td>\n",
       "      <td>B002KV1MJU</td>\n",
       "      <td>us</td>\n",
       "      <td>E</td>\n",
       "      <td>1</td>\n",
       "      <td>1</td>\n",
       "      <td>train</td>\n",
       "      <td>Marcy Recumbent Exercise Bike with Resistance ...</td>\n",
       "      <td>None</td>\n",
       "      <td>STEP-THROUGH DESIGN – Featuring heavy-duty con...</td>\n",
       "      <td>Marcy</td>\n",
       "      <td>Black/Gray/Copper</td>\n",
       "      <td>7</td>\n",
       "      <td>52</td>\n",
       "    </tr>\n",
       "  </tbody>\n",
       "</table>\n",
       "<p>1818825 rows × 16 columns</p>\n",
       "</div>"
      ],
      "text/plain": [
       "         example_id           query  query_id  product_id product_locale  \\\n",
       "0                 0   revent 80 cfm         0  B000MOO21W             us   \n",
       "1                 1   revent 80 cfm         0  B07X3Y6B1V             us   \n",
       "2                 2   revent 80 cfm         0  B07WDM7MQQ             us   \n",
       "3                 3   revent 80 cfm         0  B07RH6Z8KW             us   \n",
       "4                 4   revent 80 cfm         0  B07QJ7WYFQ             us   \n",
       "...             ...             ...       ...         ...            ...   \n",
       "2618565     2618565         자전거트레일러    130539  B06XTZYJL3             us   \n",
       "2618566     2618566         자전거트레일러    130539  B010LLGWL8             us   \n",
       "2618567     2618567         자전거트레일러    130539  B010LLGWKE             us   \n",
       "2618568     2618568         자전거트레일러    130539  B003CUBPUY             us   \n",
       "2618569     2618569         자전거트레일러    130539  B002KV1MJU             us   \n",
       "\n",
       "        esci_label  small_version  large_version  split  \\\n",
       "0                I              0              1  train   \n",
       "1                E              0              1  train   \n",
       "2                E              0              1  train   \n",
       "3                E              0              1  train   \n",
       "4                E              0              1  train   \n",
       "...            ...            ...            ...    ...   \n",
       "2618565          I              1              1  train   \n",
       "2618566          E              1              1  train   \n",
       "2618567          E              1              1  train   \n",
       "2618568          I              1              1  train   \n",
       "2618569          E              1              1  train   \n",
       "\n",
       "                                             product_title  \\\n",
       "0        Panasonic FV-20VQ3 WhisperCeiling 190 CFM Ceil...   \n",
       "1        Homewerks 7141-80 Bathroom Fan Integrated LED ...   \n",
       "2        Homewerks 7140-80 Bathroom Fan Ceiling Mount E...   \n",
       "3        Delta Electronics RAD80L BreezRadiance 80 CFM ...   \n",
       "4        Panasonic FV-08VRE2 Ventilation Fan with Reces...   \n",
       "...                                                    ...   \n",
       "2618565  Nilight - ZH003 20Inch 126W Spot Flood Combo L...   \n",
       "2618566  Burley Honey Bee, 2 Seat Kids Bike Trailer & S...   \n",
       "2618567  BURLEY Design Bee, 2 Seat, Lightweight, Kids B...   \n",
       "2618568  Bell 20-Inch Universal Inner Tube, Width Fit R...   \n",
       "2618569  Marcy Recumbent Exercise Bike with Resistance ...   \n",
       "\n",
       "                                       product_description  \\\n",
       "0                                                     None   \n",
       "1                                                     None   \n",
       "2                                                     None   \n",
       "3        This pre-owned or refurbished product has been...   \n",
       "4                                                     None   \n",
       "...                                                    ...   \n",
       "2618565                                               None   \n",
       "2618566                                               None   \n",
       "2618567                                               None   \n",
       "2618568                                               None   \n",
       "2618569                                               None   \n",
       "\n",
       "                                      product_bullet_point  \\\n",
       "0        WhisperCeiling fans feature a totally enclosed...   \n",
       "1        OUTSTANDING PERFORMANCE: This Homewerk's bath ...   \n",
       "2        OUTSTANDING PERFORMANCE: This Homewerk's bath ...   \n",
       "3        Quiet operation at 1.5 sones\\nBuilt-in thermos...   \n",
       "4        The design solution for Fan/light combinations...   \n",
       "...                                                    ...   \n",
       "2618565  Super bright beam: High intensity 3W LED chips...   \n",
       "2618566                                Sport Type: Cycling   \n",
       "2618567                                sport type: Cycling   \n",
       "2618568  Mold cured rubber for consistent side wall–pre...   \n",
       "2618569  STEP-THROUGH DESIGN – Featuring heavy-duty con...   \n",
       "\n",
       "                             product_brand            product_color  \\\n",
       "0                                Panasonic                    White   \n",
       "1                                Homewerks                   80 CFM   \n",
       "2                                Homewerks                    White   \n",
       "3        DELTA ELECTRONICS (AMERICAS) LTD.                    White   \n",
       "4                                Panasonic                    White   \n",
       "...                                    ...                      ...   \n",
       "2618565                            Nilight                     None   \n",
       "2618566                      Burley Design                      Red   \n",
       "2618567                      Burley Design                   Yellow   \n",
       "2618568                               BELL  20\"x1.75-2.25\" Schrader   \n",
       "2618569                              Marcy        Black/Gray/Copper   \n",
       "\n",
       "         query_length  product_title_length  \n",
       "0                  14                    61  \n",
       "1                  14                   104  \n",
       "2                  14                    90  \n",
       "3                  14                    84  \n",
       "4                  14                    63  \n",
       "...               ...                   ...  \n",
       "2618565             7                   170  \n",
       "2618566             7                    58  \n",
       "2618567             7                    79  \n",
       "2618568             7                    73  \n",
       "2618569             7                    52  \n",
       "\n",
       "[1818825 rows x 16 columns]"
      ]
     },
     "execution_count": 26,
     "metadata": {},
     "output_type": "execute_result"
    }
   ],
   "source": [
    "examples_products"
   ]
  },
  {
   "cell_type": "code",
   "execution_count": 6,
   "metadata": {},
   "outputs": [
    {
     "name": "stdout",
     "output_type": "stream",
     "text": [
      "Full data shape: (1818825, 14)\n"
     ]
    }
   ],
   "source": [
    "print(f'Full data shape: {examples_products.shape}')"
   ]
  },
  {
   "cell_type": "code",
   "execution_count": 7,
   "metadata": {},
   "outputs": [
    {
     "name": "stdout",
     "output_type": "stream",
     "text": [
      "Columns and datatype info:\n",
      "<class 'pandas.core.frame.DataFrame'>\n",
      "Index: 1818825 entries, 0 to 2618569\n",
      "Data columns (total 14 columns):\n",
      " #   Column                Dtype \n",
      "---  ------                ----- \n",
      " 0   example_id            int64 \n",
      " 1   query                 object\n",
      " 2   query_id              int64 \n",
      " 3   product_id            object\n",
      " 4   product_locale        object\n",
      " 5   esci_label            object\n",
      " 6   small_version         int64 \n",
      " 7   large_version         int64 \n",
      " 8   split                 object\n",
      " 9   product_title         object\n",
      " 10  product_description   object\n",
      " 11  product_bullet_point  object\n",
      " 12  product_brand         object\n",
      " 13  product_color         object\n",
      "dtypes: int64(4), object(10)\n",
      "memory usage: 208.1+ MB\n",
      "None\n"
     ]
    }
   ],
   "source": [
    "print('Columns and datatype info:')\n",
    "print(examples_products.info())"
   ]
  },
  {
   "cell_type": "code",
   "execution_count": 8,
   "metadata": {},
   "outputs": [
    {
     "name": "stdout",
     "output_type": "stream",
     "text": [
      "Null values:\n",
      "example_id                   0\n",
      "query                        0\n",
      "query_id                     0\n",
      "product_id                   0\n",
      "product_locale               0\n",
      "esci_label                   0\n",
      "small_version                0\n",
      "large_version                0\n",
      "split                        0\n",
      "product_title                0\n",
      "product_description     914772\n",
      "product_bullet_point    214083\n",
      "product_brand            83450\n",
      "product_color           545228\n",
      "dtype: int64\n"
     ]
    }
   ],
   "source": [
    "print(f'Null values:\\n{examples_products.isnull().sum()}')"
   ]
  },
  {
   "cell_type": "code",
   "execution_count": 9,
   "metadata": {},
   "outputs": [
    {
     "name": "stdout",
     "output_type": "stream",
     "text": [
      "Unique products: 1193658\n"
     ]
    }
   ],
   "source": [
    "unique_products = examples_products['product_title'].nunique()\n",
    "print(f'Unique products: {unique_products}')"
   ]
  },
  {
   "cell_type": "code",
   "execution_count": 10,
   "metadata": {},
   "outputs": [
    {
     "name": "stdout",
     "output_type": "stream",
     "text": [
      "Unique queries: 97345\n"
     ]
    }
   ],
   "source": [
    "unique_queries = examples_products['query'].nunique()\n",
    "print(f'Unique queries: {unique_queries}')"
   ]
  },
  {
   "cell_type": "code",
   "execution_count": 11,
   "metadata": {},
   "outputs": [],
   "source": [
    "examples_products['query_length'] = examples_products['query'].str.len()"
   ]
  },
  {
   "cell_type": "code",
   "execution_count": 12,
   "metadata": {},
   "outputs": [],
   "source": [
    "examples_products['product_title_length'] = examples_products['product_title'].str.len()"
   ]
  },
  {
   "cell_type": "code",
   "execution_count": 13,
   "metadata": {},
   "outputs": [
    {
     "data": {
      "text/plain": [
       "count    1.818825e+06\n",
       "mean     2.143909e+01\n",
       "std      9.877585e+00\n",
       "min      1.000000e+00\n",
       "25%      1.500000e+01\n",
       "50%      2.000000e+01\n",
       "75%      2.700000e+01\n",
       "max      1.710000e+02\n",
       "Name: query_length, dtype: float64"
      ]
     },
     "execution_count": 13,
     "metadata": {},
     "output_type": "execute_result"
    }
   ],
   "source": [
    "examples_products['query_length'].describe()"
   ]
  },
  {
   "cell_type": "code",
   "execution_count": 14,
   "metadata": {},
   "outputs": [
    {
     "data": {
      "text/plain": [
       "Text(0.5, 1.0, 'Reduced Dataset Query Str Length Distribution')"
      ]
     },
     "execution_count": 14,
     "metadata": {},
     "output_type": "execute_result"
    },
    {
     "data": {
      "image/png": "[encoded data removed]",
      "text/plain": [
       "<Figure size 640x480 with 1 Axes>"
      ]
     },
     "metadata": {},
     "output_type": "display_data"
    }
   ],
   "source": [
    "plt.hist(examples_products['query_length'], bins=25)\n",
    "plt.title('Reduced Dataset Query Str Length Distribution')"
   ]
  },
  {
   "cell_type": "code",
   "execution_count": 15,
   "metadata": {},
   "outputs": [
    {
     "data": {
      "text/plain": [
       "count   1818825.00\n",
       "mean        109.81\n",
       "std          52.14\n",
       "min           1.00\n",
       "25%          68.00\n",
       "50%         102.00\n",
       "75%         154.00\n",
       "max         400.00\n",
       "Name: product_title_length, dtype: float64"
      ]
     },
     "execution_count": 15,
     "metadata": {},
     "output_type": "execute_result"
    }
   ],
   "source": [
    "pd.options.display.float_format = '{:.2f}'.format\n",
    "examples_products['product_title_length'].describe()"
   ]
  },
  {
   "cell_type": "code",
   "execution_count": 16,
   "metadata": {},
   "outputs": [
    {
     "data": {
      "text/plain": [
       "Text(0.5, 1.0, 'Reduced Dataset Product Title Str Length Distribution')"
      ]
     },
     "execution_count": 16,
     "metadata": {},
     "output_type": "execute_result"
    },
    {
     "data": {
      "image/png": "[encoded data removed]",
      "text/plain": [
       "<Figure size 640x480 with 1 Axes>"
      ]
     },
     "metadata": {},
     "output_type": "display_data"
    }
   ],
   "source": [
    "plt.hist(examples_products['product_title_length'], bins=25)\n",
    "plt.title('Reduced Dataset Product Title Str Length Distribution')"
   ]
  },
  {
   "cell_type": "code",
   "execution_count": 17,
   "metadata": {},
   "outputs": [
    {
     "name": "stdout",
     "output_type": "stream",
     "text": [
      "1818825\n"
     ]
    }
   ],
   "source": [
    "total_judgements = examples_products['esci_label'].count()\n",
    "print(total_judgements)"
   ]
  },
  {
   "cell_type": "markdown",
   "metadata": {},
   "source": [
    "### Queries per product"
   ]
  },
  {
   "cell_type": "code",
   "execution_count": 18,
   "metadata": {},
   "outputs": [],
   "source": [
    "product_query_counts = examples_products.groupby('product_title')['query'].count().reset_index()\n",
    "\n",
    "product_query_counts.columns = ['product', 'query_count']\n",
    "\n",
    "product_query_counts = product_query_counts.sort_values(by='query_count', ascending=False)"
   ]
  },
  {
   "cell_type": "code",
   "execution_count": 19,
   "metadata": {},
   "outputs": [
    {
     "data": {
      "text/html": [
       "<div>\n",
       "<style scoped>\n",
       "    .dataframe tbody tr th:only-of-type {\n",
       "        vertical-align: middle;\n",
       "    }\n",
       "\n",
       "    .dataframe tbody tr th {\n",
       "        vertical-align: top;\n",
       "    }\n",
       "\n",
       "    .dataframe thead th {\n",
       "        text-align: right;\n",
       "    }\n",
       "</style>\n",
       "<table border=\"1\" class=\"dataframe\">\n",
       "  <thead>\n",
       "    <tr style=\"text-align: right;\">\n",
       "      <th></th>\n",
       "      <th>product</th>\n",
       "      <th>query_count</th>\n",
       "    </tr>\n",
       "  </thead>\n",
       "  <tbody>\n",
       "    <tr>\n",
       "      <th>798222</th>\n",
       "      <td>Pilot</td>\n",
       "      <td>221</td>\n",
       "    </tr>\n",
       "    <tr>\n",
       "      <th>360026</th>\n",
       "      <td>Episode 1</td>\n",
       "      <td>204</td>\n",
       "    </tr>\n",
       "    <tr>\n",
       "      <th>280394</th>\n",
       "      <td>Currently Unsupervised Novelty Graphic Sarcast...</td>\n",
       "      <td>120</td>\n",
       "    </tr>\n",
       "    <tr>\n",
       "      <th>382078</th>\n",
       "      <td>Feelin Good Tees My Opinion Offended You Adult...</td>\n",
       "      <td>114</td>\n",
       "    </tr>\n",
       "    <tr>\n",
       "      <th>74256</th>\n",
       "      <td>Acer Aspire 5 Slim Laptop, 15.6 inches Full HD...</td>\n",
       "      <td>111</td>\n",
       "    </tr>\n",
       "    <tr>\n",
       "      <th>508702</th>\n",
       "      <td>I'm Fine Graphic Novelty Sarcastic Funny T Shi...</td>\n",
       "      <td>108</td>\n",
       "    </tr>\n",
       "    <tr>\n",
       "      <th>133971</th>\n",
       "      <td>BENGOO G9000 Stereo Gaming Headset for PS4 PC ...</td>\n",
       "      <td>101</td>\n",
       "    </tr>\n",
       "    <tr>\n",
       "      <th>1049367</th>\n",
       "      <td>Twinkle Star 300 LED Window Curtain String Lig...</td>\n",
       "      <td>98</td>\n",
       "    </tr>\n",
       "    <tr>\n",
       "      <th>1045715</th>\n",
       "      <td>TruSkin Vitamin C Serum for Face, Anti Aging S...</td>\n",
       "      <td>96</td>\n",
       "    </tr>\n",
       "    <tr>\n",
       "      <th>1110907</th>\n",
       "      <td>When This Virus is Over Graphic Novelty Sarcas...</td>\n",
       "      <td>94</td>\n",
       "    </tr>\n",
       "  </tbody>\n",
       "</table>\n",
       "</div>"
      ],
      "text/plain": [
       "                                                   product  query_count\n",
       "798222                                               Pilot          221\n",
       "360026                                           Episode 1          204\n",
       "280394   Currently Unsupervised Novelty Graphic Sarcast...          120\n",
       "382078   Feelin Good Tees My Opinion Offended You Adult...          114\n",
       "74256    Acer Aspire 5 Slim Laptop, 15.6 inches Full HD...          111\n",
       "508702   I'm Fine Graphic Novelty Sarcastic Funny T Shi...          108\n",
       "133971   BENGOO G9000 Stereo Gaming Headset for PS4 PC ...          101\n",
       "1049367  Twinkle Star 300 LED Window Curtain String Lig...           98\n",
       "1045715  TruSkin Vitamin C Serum for Face, Anti Aging S...           96\n",
       "1110907  When This Virus is Over Graphic Novelty Sarcas...           94"
      ]
     },
     "execution_count": 19,
     "metadata": {},
     "output_type": "execute_result"
    }
   ],
   "source": [
    "product_query_counts.head(10)"
   ]
  },
  {
   "cell_type": "code",
   "execution_count": 20,
   "metadata": {},
   "outputs": [
    {
     "data": {
      "text/html": [
       "<div>\n",
       "<style scoped>\n",
       "    .dataframe tbody tr th:only-of-type {\n",
       "        vertical-align: middle;\n",
       "    }\n",
       "\n",
       "    .dataframe tbody tr th {\n",
       "        vertical-align: top;\n",
       "    }\n",
       "\n",
       "    .dataframe thead th {\n",
       "        text-align: right;\n",
       "    }\n",
       "</style>\n",
       "<table border=\"1\" class=\"dataframe\">\n",
       "  <thead>\n",
       "    <tr style=\"text-align: right;\">\n",
       "      <th></th>\n",
       "      <th>query_count</th>\n",
       "    </tr>\n",
       "  </thead>\n",
       "  <tbody>\n",
       "    <tr>\n",
       "      <th>count</th>\n",
       "      <td>1193658.00</td>\n",
       "    </tr>\n",
       "    <tr>\n",
       "      <th>mean</th>\n",
       "      <td>1.52</td>\n",
       "    </tr>\n",
       "    <tr>\n",
       "      <th>std</th>\n",
       "      <td>1.77</td>\n",
       "    </tr>\n",
       "    <tr>\n",
       "      <th>min</th>\n",
       "      <td>1.00</td>\n",
       "    </tr>\n",
       "    <tr>\n",
       "      <th>25%</th>\n",
       "      <td>1.00</td>\n",
       "    </tr>\n",
       "    <tr>\n",
       "      <th>50%</th>\n",
       "      <td>1.00</td>\n",
       "    </tr>\n",
       "    <tr>\n",
       "      <th>75%</th>\n",
       "      <td>1.00</td>\n",
       "    </tr>\n",
       "    <tr>\n",
       "      <th>max</th>\n",
       "      <td>221.00</td>\n",
       "    </tr>\n",
       "  </tbody>\n",
       "</table>\n",
       "</div>"
      ],
      "text/plain": [
       "       query_count\n",
       "count   1193658.00\n",
       "mean          1.52\n",
       "std           1.77\n",
       "min           1.00\n",
       "25%           1.00\n",
       "50%           1.00\n",
       "75%           1.00\n",
       "max         221.00"
      ]
     },
     "execution_count": 20,
     "metadata": {},
     "output_type": "execute_result"
    }
   ],
   "source": [
    "product_query_counts.describe()"
   ]
  },
  {
   "cell_type": "markdown",
   "metadata": {},
   "source": [
    "### Products per query"
   ]
  },
  {
   "cell_type": "code",
   "execution_count": 21,
   "metadata": {},
   "outputs": [],
   "source": [
    "query_product_counts = examples_products.groupby('query')['product_title'].count().reset_index()\n",
    "\n",
    "query_product_counts.columns = ['query', 'product_count']\n",
    "\n",
    "query_product_counts = query_product_counts.sort_values(by='product_count', ascending=False)"
   ]
  },
  {
   "cell_type": "code",
   "execution_count": 22,
   "metadata": {},
   "outputs": [
    {
     "data": {
      "text/html": [
       "<div>\n",
       "<style scoped>\n",
       "    .dataframe tbody tr th:only-of-type {\n",
       "        vertical-align: middle;\n",
       "    }\n",
       "\n",
       "    .dataframe tbody tr th {\n",
       "        vertical-align: top;\n",
       "    }\n",
       "\n",
       "    .dataframe thead th {\n",
       "        text-align: right;\n",
       "    }\n",
       "</style>\n",
       "<table border=\"1\" class=\"dataframe\">\n",
       "  <thead>\n",
       "    <tr style=\"text-align: right;\">\n",
       "      <th></th>\n",
       "      <th>query</th>\n",
       "      <th>product_count</th>\n",
       "    </tr>\n",
       "  </thead>\n",
       "  <tbody>\n",
       "    <tr>\n",
       "      <th>88554</th>\n",
       "      <td>tv</td>\n",
       "      <td>198</td>\n",
       "    </tr>\n",
       "    <tr>\n",
       "      <th>6208</th>\n",
       "      <td>airpods</td>\n",
       "      <td>188</td>\n",
       "    </tr>\n",
       "    <tr>\n",
       "      <th>49915</th>\n",
       "      <td>laptop</td>\n",
       "      <td>167</td>\n",
       "    </tr>\n",
       "    <tr>\n",
       "      <th>77206</th>\n",
       "      <td>shoes</td>\n",
       "      <td>158</td>\n",
       "    </tr>\n",
       "    <tr>\n",
       "      <th>69482</th>\n",
       "      <td>printer</td>\n",
       "      <td>136</td>\n",
       "    </tr>\n",
       "  </tbody>\n",
       "</table>\n",
       "</div>"
      ],
      "text/plain": [
       "         query  product_count\n",
       "88554       tv            198\n",
       "6208   airpods            188\n",
       "49915   laptop            167\n",
       "77206    shoes            158\n",
       "69482  printer            136"
      ]
     },
     "execution_count": 22,
     "metadata": {},
     "output_type": "execute_result"
    }
   ],
   "source": [
    "query_product_counts.head(5)"
   ]
  },
  {
   "cell_type": "code",
   "execution_count": 23,
   "metadata": {},
   "outputs": [
    {
     "data": {
      "text/html": [
       "<div>\n",
       "<style scoped>\n",
       "    .dataframe tbody tr th:only-of-type {\n",
       "        vertical-align: middle;\n",
       "    }\n",
       "\n",
       "    .dataframe tbody tr th {\n",
       "        vertical-align: top;\n",
       "    }\n",
       "\n",
       "    .dataframe thead th {\n",
       "        text-align: right;\n",
       "    }\n",
       "</style>\n",
       "<table border=\"1\" class=\"dataframe\">\n",
       "  <thead>\n",
       "    <tr style=\"text-align: right;\">\n",
       "      <th></th>\n",
       "      <th>product_count</th>\n",
       "    </tr>\n",
       "  </thead>\n",
       "  <tbody>\n",
       "    <tr>\n",
       "      <th>count</th>\n",
       "      <td>97345.00</td>\n",
       "    </tr>\n",
       "    <tr>\n",
       "      <th>mean</th>\n",
       "      <td>18.68</td>\n",
       "    </tr>\n",
       "    <tr>\n",
       "      <th>std</th>\n",
       "      <td>7.98</td>\n",
       "    </tr>\n",
       "    <tr>\n",
       "      <th>min</th>\n",
       "      <td>8.00</td>\n",
       "    </tr>\n",
       "    <tr>\n",
       "      <th>25%</th>\n",
       "      <td>16.00</td>\n",
       "    </tr>\n",
       "    <tr>\n",
       "      <th>50%</th>\n",
       "      <td>16.00</td>\n",
       "    </tr>\n",
       "    <tr>\n",
       "      <th>75%</th>\n",
       "      <td>16.00</td>\n",
       "    </tr>\n",
       "    <tr>\n",
       "      <th>max</th>\n",
       "      <td>198.00</td>\n",
       "    </tr>\n",
       "  </tbody>\n",
       "</table>\n",
       "</div>"
      ],
      "text/plain": [
       "       product_count\n",
       "count       97345.00\n",
       "mean           18.68\n",
       "std             7.98\n",
       "min             8.00\n",
       "25%            16.00\n",
       "50%            16.00\n",
       "75%            16.00\n",
       "max           198.00"
      ]
     },
     "execution_count": 23,
     "metadata": {},
     "output_type": "execute_result"
    }
   ],
   "source": [
    "query_product_counts.describe()"
   ]
  },
  {
   "cell_type": "markdown",
   "metadata": {},
   "source": [
    "### Most common brands"
   ]
  },
  {
   "cell_type": "code",
   "execution_count": 24,
   "metadata": {},
   "outputs": [],
   "source": [
    "top_products = examples_products['product_brand'].value_counts().nlargest(20)"
   ]
  },
  {
   "cell_type": "code",
   "execution_count": 25,
   "metadata": {},
   "outputs": [
    {
     "data": {
      "text/plain": [
       "product_brand\n",
       "Nike                 8450\n",
       "Amazon Basics        6861\n",
       "adidas               6392\n",
       "Amazon Essentials    6075\n",
       "Apple                5634\n",
       "Name: count, dtype: int64"
      ]
     },
     "execution_count": 25,
     "metadata": {},
     "output_type": "execute_result"
    }
   ],
   "source": [
    "top_products.head()"
   ]
  },
  {
   "cell_type": "code",
   "execution_count": null,
   "metadata": {},
   "outputs": [],
   "source": []
  }
 ],
 "metadata": {
  "kernelspec": {
   "display_name": "env",
   "language": "python",
   "name": "python3"
  },
  "language_info": {
   "codemirror_mode": {
    "name": "ipython",
    "version": 3
   },
   "file_extension": ".py",
   "mimetype": "text/x-python",
   "name": "python",
   "nbconvert_exporter": "python",
   "pygments_lexer": "ipython3",
   "version": "3.11.8"
  }
 },
 "nbformat": 4,
 "nbformat_minor": 2
}

{
 "cells": [
  {
   "cell_type": "code",
   "execution_count": 27,
   "metadata": {},
   "outputs": [],
   "source": [
    "import torch\n",
    "from sentence_transformers.cross_encoder import CrossEncoder\n",
    "from sentence_transformers.cross_encoder.evaluation import CESoftmaxAccuracyEvaluator\n",
    "from torch.utils.data import DataLoader\n",
    "from sklearn.model_selection import train_test_split\n",
    "from sentence_transformers.readers import InputExample\n",
    "from tqdm import tqdm\n",
    "from transformers import AdamW, get_scheduler, AutoTokenizer, AutoModelForSequenceClassification\n",
    "from sklearn.metrics import f1_score, accuracy_score\n",
    "import sys\n",
    "import os\n",
    "import pandas as pd\n",
    "import dask.dataframe as dd\n",
    "from huggingface_hub import login\n",
    "sys.path.append(os.path.abspath('..'))\n",
    "from config import TOKEN_1\n",
    "from sklearn.metrics import confusion_matrix\n",
    "from sklearn.metrics import classification_report\n",
    "import matplotlib.pyplot as plt\n",
    "import seaborn as sns\n",
    "from torch.cuda.amp import autocast"
   ]
  },
  {
   "cell_type": "code",
   "execution_count": 61,
   "metadata": {},
   "outputs": [],
   "source": [
    "examples_path = os.path.join('..', 'data', 'shopping_queries_dataset_examples.parquet')\n",
    "products_path = os.path.join('..', 'data', 'shopping_queries_dataset_products.parquet')\n",
    "sources_path = os.path.join('..', 'data', 'shopping_queries_dataset_sources.csv')\n",
    "\n",
    "examples = dd.read_parquet(examples_path)\n",
    "products = dd.read_parquet(products_path)\n",
    "sources = dd.read_csv(sources_path)"
   ]
  },
  {
   "cell_type": "code",
   "execution_count": 62,
   "metadata": {
    "scrolled": true
   },
   "outputs": [
    {
     "name": "stderr",
     "output_type": "stream",
     "text": [
      "/home/sllawlis/python3.14/lib/python3.11/site-packages/dask_expr/_collection.py:4196: UserWarning: \n",
      "You did not provide metadata, so Dask is running your function on a small dataset to guess output types. It is possible that Dask will guess incorrectly.\n",
      "To provide an explicit output types or to silence this message, please provide the `meta=` keyword, as described in the map or apply function that you are using.\n",
      "  Before: .apply(func)\n",
      "  After:  .apply(func, meta=('esci_label', 'float64'))\n",
      "\n",
      "  warnings.warn(meta_warning(meta))\n"
     ]
    }
   ],
   "source": [
    "examples_products = dd.merge(\n",
    "    examples,\n",
    "    products,\n",
    "    how='left',\n",
    "    left_on=['product_locale','product_id'],\n",
    "    right_on=['product_locale', 'product_id']\n",
    ")\n",
    "\n",
    "examples_products = examples_products[examples_products['product_locale'] == 'us']\n",
    "\n",
    "task_2 = examples_products[examples_products['large_version'] == 1]\n",
    "\n",
    "label_mapping = {'E': 0, \n",
    "                 'S': 1, \n",
    "                 'C': 2, \n",
    "                 'I': 3}\n",
    "\n",
    "task_2['encoded_labels'] = task_2['esci_label'].map(label_mapping).astype(int)\n",
    "\n",
    "task_2_train = task_2[task_2['split'] == 'train']\n",
    "task_2_test = task_2[task_2['split'] == 'test']"
   ]
  },
  {
   "cell_type": "code",
   "execution_count": 4,
   "metadata": {},
   "outputs": [],
   "source": [
    "task_2_train = task_2_train.compute()\n",
    "task_2_test = task_2_test.compute()"
   ]
  },
  {
   "cell_type": "code",
   "execution_count": 5,
   "metadata": {},
   "outputs": [],
   "source": [
    "# total_rows = task_2_train.shape[0].compute()\n",
    "\n",
    "# sample_fraction = 10000 / total_rows\n",
    "\n",
    "# task_2_train_sample = task_2_train.sample(frac=sample_fraction, random_state=21)\n",
    "\n",
    "# task_2_train_sample = task_2_train_sample.compute()"
   ]
  },
  {
   "cell_type": "code",
   "execution_count": 6,
   "metadata": {},
   "outputs": [],
   "source": [
    "# total_rows2 = task_2_test.shape[0].compute()\n",
    "\n",
    "# sample_fraction2 = 10000 / total_rows2\n",
    "\n",
    "# task_2_test_sample = task_2_test.sample(frac=sample_fraction2, random_state=21)\n",
    "\n",
    "# task_2_test_sample = task_2_test_sample.compute()"
   ]
  },
  {
   "cell_type": "code",
   "execution_count": 7,
   "metadata": {},
   "outputs": [],
   "source": [
    "def collate_fn(batch):\n",
    "    # Extract texts and labels from InputExample objects\n",
    "    texts = [(example.texts[0], example.texts[1]) for example in batch]\n",
    "    labels = [example.label for example in batch]\n",
    "    return {\"texts\": texts, \"labels\": labels}"
   ]
  },
  {
   "cell_type": "code",
   "execution_count": 8,
   "metadata": {},
   "outputs": [],
   "source": [
    "def prepare_data(dataset):\n",
    "    samples = []\n",
    "    for _, row in dataset.iterrows():\n",
    "        query = row[\"query\"]\n",
    "        product = row[\"product_title\"]\n",
    "        label = int(row[\"encoded_labels\"])\n",
    "        samples.append(InputExample(texts=[query, product], label=label))\n",
    "    return samples\n",
    "\n",
    "train_samples, dev_samples = train_test_split(task_2_train, test_size=0.1, random_state=21)\n",
    "train_samples = prepare_data(train_samples)\n",
    "dev_samples = prepare_data(dev_samples)\n",
    "\n",
    "batch_size = 32\n",
    "train_dataloader = DataLoader(train_samples, shuffle=True, batch_size=batch_size, collate_fn=collate_fn)\n",
    "dev_dataloader = DataLoader(dev_samples, shuffle=False, batch_size=batch_size, collate_fn=collate_fn)"
   ]
  },
  {
   "cell_type": "code",
   "execution_count": 9,
   "metadata": {},
   "outputs": [
    {
     "name": "stderr",
     "output_type": "stream",
     "text": [
      "Some weights of RobertaForSequenceClassification were not initialized from the model checkpoint at sentence-transformers/all-distilroberta-v1 and are newly initialized: ['classifier.dense.bias', 'classifier.dense.weight', 'classifier.out_proj.bias', 'classifier.out_proj.weight']\n",
      "You should probably TRAIN this model on a down-stream task to be able to use it for predictions and inference.\n"
     ]
    },
    {
     "data": {
      "text/plain": [
       "RobertaForSequenceClassification(\n",
       "  (roberta): RobertaModel(\n",
       "    (embeddings): RobertaEmbeddings(\n",
       "      (word_embeddings): Embedding(50265, 768, padding_idx=1)\n",
       "      (position_embeddings): Embedding(514, 768, padding_idx=1)\n",
       "      (token_type_embeddings): Embedding(1, 768)\n",
       "      (LayerNorm): LayerNorm((768,), eps=1e-05, elementwise_affine=True)\n",
       "      (dropout): Dropout(p=0.1, inplace=False)\n",
       "    )\n",
       "    (encoder): RobertaEncoder(\n",
       "      (layer): ModuleList(\n",
       "        (0-5): 6 x RobertaLayer(\n",
       "          (attention): RobertaAttention(\n",
       "            (self): RobertaSdpaSelfAttention(\n",
       "              (query): Linear(in_features=768, out_features=768, bias=True)\n",
       "              (key): Linear(in_features=768, out_features=768, bias=True)\n",
       "              (value): Linear(in_features=768, out_features=768, bias=True)\n",
       "              (dropout): Dropout(p=0.1, inplace=False)\n",
       "            )\n",
       "            (output): RobertaSelfOutput(\n",
       "              (dense): Linear(in_features=768, out_features=768, bias=True)\n",
       "              (LayerNorm): LayerNorm((768,), eps=1e-05, elementwise_affine=True)\n",
       "              (dropout): Dropout(p=0.1, inplace=False)\n",
       "            )\n",
       "          )\n",
       "          (intermediate): RobertaIntermediate(\n",
       "            (dense): Linear(in_features=768, out_features=3072, bias=True)\n",
       "            (intermediate_act_fn): GELUActivation()\n",
       "          )\n",
       "          (output): RobertaOutput(\n",
       "            (dense): Linear(in_features=3072, out_features=768, bias=True)\n",
       "            (LayerNorm): LayerNorm((768,), eps=1e-05, elementwise_affine=True)\n",
       "            (dropout): Dropout(p=0.1, inplace=False)\n",
       "          )\n",
       "        )\n",
       "      )\n",
       "    )\n",
       "  )\n",
       "  (classifier): RobertaClassificationHead(\n",
       "    (dense): Linear(in_features=768, out_features=768, bias=True)\n",
       "    (dropout): Dropout(p=0.1, inplace=False)\n",
       "    (out_proj): Linear(in_features=768, out_features=4, bias=True)\n",
       "  )\n",
       ")"
      ]
     },
     "execution_count": 9,
     "metadata": {},
     "output_type": "execute_result"
    }
   ],
   "source": [
    "model_name = \"sentence-transformers/all-distilroberta-v1\"\n",
    "model = CrossEncoder(model_name, num_labels=4)\n",
    "\n",
    "device = torch.device(\"cuda\" if torch.cuda.is_available() else \"cpu\")\n",
    "model.model.to(device)"
   ]
  },
  {
   "cell_type": "code",
   "execution_count": 10,
   "metadata": {},
   "outputs": [
    {
     "name": "stdout",
     "output_type": "stream",
     "text": [
      "cuda\n"
     ]
    }
   ],
   "source": [
    "print(device)"
   ]
  },
  {
   "cell_type": "code",
   "execution_count": 11,
   "metadata": {},
   "outputs": [
    {
     "name": "stdout",
     "output_type": "stream",
     "text": [
      "Tesla V100-PCIE-32GB\n"
     ]
    }
   ],
   "source": [
    "print(torch.cuda.get_device_name(0))"
   ]
  },
  {
   "cell_type": "code",
   "execution_count": 12,
   "metadata": {},
   "outputs": [
    {
     "name": "stderr",
     "output_type": "stream",
     "text": [
      "/home/sllawlis/python3.14/lib/python3.11/site-packages/transformers/optimization.py:591: FutureWarning: This implementation of AdamW is deprecated and will be removed in a future version. Use the PyTorch implementation torch.optim.AdamW instead, or set `no_deprecation_warning=True` to disable this warning\n",
      "  warnings.warn(\n"
     ]
    }
   ],
   "source": [
    "optimizer = AdamW(model.model.parameters(), lr=5e-5)\n",
    "num_training_steps = len(train_dataloader) * 3  # 3 epochs\n",
    "scheduler = get_scheduler(\"linear\", optimizer=optimizer, num_warmup_steps=int(0.1 * num_training_steps), num_training_steps=num_training_steps)\n",
    "\n",
    "# Loss Function\n",
    "loss_fn = torch.nn.CrossEntropyLoss()"
   ]
  },
  {
   "cell_type": "code",
   "execution_count": 13,
   "metadata": {},
   "outputs": [
    {
     "name": "stderr",
     "output_type": "stream",
     "text": [
      "Epoch 1/3: 100%|██████████| 39180/39180 [45:40<00:00, 14.30batch/s, loss=0.606]\n"
     ]
    },
    {
     "name": "stdout",
     "output_type": "stream",
     "text": [
      "Epoch 1 - Average Loss: 0.6130\n"
     ]
    },
    {
     "name": "stderr",
     "output_type": "stream",
     "text": [
      "Evaluating: 100%|██████████| 4354/4354 [01:33<00:00, 46.38batch/s]\n"
     ]
    },
    {
     "name": "stdout",
     "output_type": "stream",
     "text": [
      "Epoch 1 - Validation F1: 0.8023, Accuracy: 0.8023\n"
     ]
    },
    {
     "name": "stderr",
     "output_type": "stream",
     "text": [
      "Epoch 2/3: 100%|██████████| 39180/39180 [45:31<00:00, 14.35batch/s, loss=0.324] \n"
     ]
    },
    {
     "name": "stdout",
     "output_type": "stream",
     "text": [
      "Epoch 2 - Average Loss: 0.4713\n"
     ]
    },
    {
     "name": "stderr",
     "output_type": "stream",
     "text": [
      "Evaluating: 100%|██████████| 4354/4354 [01:32<00:00, 46.95batch/s]\n"
     ]
    },
    {
     "name": "stdout",
     "output_type": "stream",
     "text": [
      "Epoch 2 - Validation F1: 0.8371, Accuracy: 0.8371\n"
     ]
    },
    {
     "name": "stderr",
     "output_type": "stream",
     "text": [
      "Epoch 3/3: 100%|██████████| 39180/39180 [45:30<00:00, 14.35batch/s, loss=0.328] \n"
     ]
    },
    {
     "name": "stdout",
     "output_type": "stream",
     "text": [
      "Epoch 3 - Average Loss: 0.3827\n"
     ]
    },
    {
     "name": "stderr",
     "output_type": "stream",
     "text": [
      "Evaluating: 100%|██████████| 4354/4354 [01:32<00:00, 46.94batch/s]\n"
     ]
    },
    {
     "name": "stdout",
     "output_type": "stream",
     "text": [
      "Epoch 3 - Validation F1: 0.8465, Accuracy: 0.8465\n"
     ]
    }
   ],
   "source": [
    "epochs = 3\n",
    "\n",
    "for epoch in range(epochs):\n",
    "    model.model.train()\n",
    "    total_loss = 0\n",
    "\n",
    "    with tqdm(total=len(train_dataloader), desc=f\"Epoch {epoch + 1}/{epochs}\", unit=\"batch\") as progress_bar:\n",
    "        for batch in train_dataloader:\n",
    "            sentences = batch[\"texts\"]\n",
    "            labels = torch.tensor(batch[\"labels\"], dtype=torch.long).to(device)\n",
    "\n",
    "            inputs = model.tokenizer(\n",
    "                [pair[0] for pair in sentences],  # Query\n",
    "                [pair[1] for pair in sentences],  # Product Title\n",
    "                truncation=True,\n",
    "                padding=True,\n",
    "                max_length=512,\n",
    "                return_tensors=\"pt\",\n",
    "            ).to(device)\n",
    "\n",
    "            # forward pass\n",
    "            outputs = model.model(**inputs)\n",
    "            logits = outputs.logits\n",
    "\n",
    "            # compute loss\n",
    "            loss = loss_fn(logits, labels)\n",
    "            total_loss += loss.item()\n",
    "\n",
    "            # backward pass + optimization\n",
    "            optimizer.zero_grad()\n",
    "            loss.backward()\n",
    "            optimizer.step()\n",
    "            scheduler.step()\n",
    "\n",
    "            # update progress bar\n",
    "            progress_bar.update(1)\n",
    "            progress_bar.set_postfix(loss=loss.item())\n",
    "\n",
    "    avg_loss = total_loss / len(train_dataloader)\n",
    "    print(f\"Epoch {epoch + 1} - Average Loss: {avg_loss:.4f}\")\n",
    "\n",
    "    # validation\n",
    "    model.model.eval()\n",
    "    all_preds, all_labels = [], []\n",
    "\n",
    "    # validation Loop\n",
    "    with torch.no_grad():\n",
    "        with tqdm(total=len(dev_dataloader), desc=\"Evaluating\", unit=\"batch\") as progress_bar:\n",
    "            for batch in dev_dataloader:\n",
    "                sentences = batch[\"texts\"]\n",
    "                labels = torch.tensor(batch[\"labels\"], dtype=torch.long).to(device)\n",
    "\n",
    "                # tokenize sentences\n",
    "                inputs = model.tokenizer(\n",
    "                    [pair[0] for pair in sentences],\n",
    "                    [pair[1] for pair in sentences],\n",
    "                    truncation=True,\n",
    "                    padding=True,\n",
    "                    max_length=128,\n",
    "                    return_tensors=\"pt\",\n",
    "                ).to(device)\n",
    "\n",
    "                # forward pass\n",
    "                outputs = model.model(**inputs)\n",
    "                logits = outputs.logits\n",
    "                predictions = torch.argmax(logits, dim=1)\n",
    "\n",
    "                # collect predictions and labels\n",
    "                all_preds.extend(predictions.cpu().numpy())\n",
    "                all_labels.extend(labels.cpu().numpy())\n",
    "\n",
    "                progress_bar.update(1)\n",
    "\n",
    "    # compute metrics\n",
    "    f1 = f1_score(all_labels, all_preds, average=\"micro\")\n",
    "    accuracy = accuracy_score(all_labels, all_preds)\n",
    "    print(f\"Epoch {epoch + 1} - Validation F1: {f1:.4f}, Accuracy: {accuracy:.4f}\")"
   ]
  },
  {
   "cell_type": "code",
   "execution_count": 14,
   "metadata": {},
   "outputs": [],
   "source": [
    "output_dir = \"trained_crossencoder_model\"\n",
    "model.save(output_dir)"
   ]
  },
  {
   "cell_type": "code",
   "execution_count": 7,
   "metadata": {},
   "outputs": [],
   "source": [
    "login(token=TOKEN_1)"
   ]
  },
  {
   "cell_type": "code",
   "execution_count": 16,
   "metadata": {},
   "outputs": [],
   "source": [
    "tokenizer = AutoTokenizer.from_pretrained(output_dir)\n",
    "trained_model = AutoModelForSequenceClassification.from_pretrained(output_dir)"
   ]
  },
  {
   "cell_type": "code",
   "execution_count": 17,
   "metadata": {},
   "outputs": [
    {
     "data": {
      "application/vnd.jupyter.widget-view+json": {
       "model_id": "30ffe2d095fe4eefba6f8407e70589c9",
       "version_major": 2,
       "version_minor": 0
      },
      "text/plain": [
       "README.md:   0%|          | 0.00/5.17k [00:00<?, ?B/s]"
      ]
     },
     "metadata": {},
     "output_type": "display_data"
    },
    {
     "data": {
      "application/vnd.jupyter.widget-view+json": {
       "model_id": "0d9c10e67f7c4dee9987ccb3a5f002c3",
       "version_major": 2,
       "version_minor": 0
      },
      "text/plain": [
       "model.safetensors:   0%|          | 0.00/328M [00:00<?, ?B/s]"
      ]
     },
     "metadata": {},
     "output_type": "display_data"
    },
    {
     "data": {
      "text/plain": [
       "CommitInfo(commit_url='https://huggingface.co/sllawlis/distilroberta-ce-esci/commit/991b73f1bba0d7f3e1bc9d503e57e63f2fbce6aa', commit_message='Upload tokenizer', commit_description='', oid='991b73f1bba0d7f3e1bc9d503e57e63f2fbce6aa', pr_url=None, repo_url=RepoUrl('https://huggingface.co/sllawlis/distilroberta-ce-esci', endpoint='https://huggingface.co', repo_type='model', repo_id='sllawlis/distilroberta-ce-esci'), pr_revision=None, pr_num=None)"
      ]
     },
     "execution_count": 17,
     "metadata": {},
     "output_type": "execute_result"
    }
   ],
   "source": [
    "repo_name = \"sllawlis/distilroberta-ce-esci\"\n",
    "trained_model.push_to_hub(repo_name)\n",
    "tokenizer.push_to_hub(repo_name)"
   ]
  },
  {
   "cell_type": "code",
   "execution_count": 63,
   "metadata": {},
   "outputs": [],
   "source": [
    "total_rows2 = task_2_test.shape[0].compute()\n",
    "\n",
    "sample_fraction2 = 1000 / total_rows2\n",
    "\n",
    "task_2_test_sample = task_2_test.sample(frac=sample_fraction2, random_state=21)\n",
    "\n",
    "task_2_test_sample = task_2_test_sample.compute()"
   ]
  },
  {
   "cell_type": "code",
   "execution_count": 64,
   "metadata": {},
   "outputs": [],
   "source": [
    "def collate_fn(batch):\n",
    "    # Transpose the batch to convert from ([queries], [products]) to [(query, product), ...]\n",
    "    queries, products = batch\n",
    "    return list(zip(queries, products))"
   ]
  },
  {
   "cell_type": "code",
   "execution_count": 65,
   "metadata": {},
   "outputs": [],
   "source": [
    "torch.cuda.empty_cache()"
   ]
  },
  {
   "cell_type": "code",
   "execution_count": 66,
   "metadata": {
    "scrolled": false
   },
   "outputs": [
    {
     "name": "stderr",
     "output_type": "stream",
     "text": [
      "Predicting:   0%|          | 0/1 [00:00<?, ?it/s]/tmp/ipykernel_214309/4072296436.py:39: FutureWarning: `torch.cuda.amp.autocast(args...)` is deprecated. Please use `torch.amp.autocast('cuda', args...)` instead.\n",
      "  with autocast():\n",
      "Predicting: 100%|██████████| 1/1 [00:00<00:00,  4.24it/s]"
     ]
    },
    {
     "name": "stdout",
     "output_type": "stream",
     "text": [
      "Classification Report:\n",
      "              precision    recall  f1-score   support\n",
      "\n",
      "           E       0.82      0.89      0.85       649\n",
      "           S       0.52      0.48      0.50       209\n",
      "           C       0.55      0.38      0.44        32\n",
      "           I       0.53      0.38      0.44       110\n",
      "\n",
      "    accuracy                           0.73      1000\n",
      "   macro avg       0.60      0.53      0.56      1000\n",
      "weighted avg       0.72      0.73      0.72      1000\n",
      "\n",
      "\n",
      "Micro F1 Score: 0.7330\n"
     ]
    },
    {
     "name": "stderr",
     "output_type": "stream",
     "text": [
      "\n"
     ]
    }
   ],
   "source": [
    "tokenizer = AutoTokenizer.from_pretrained(\"sllawlis/distilroberta-ce-esci\")\n",
    "model = AutoModelForSequenceClassification.from_pretrained(\"sllawlis/distilroberta-ce-esci\")\n",
    "\n",
    "device = torch.device(\"cuda\" if torch.cuda.is_available() else \"cpu\")\n",
    "model.to(device)\n",
    "\n",
    "query_product_pairs = list(zip(\n",
    "    task_2_test_sample[\"query\"].tolist(),\n",
    "    task_2_test_sample[\"product_title\"].tolist()\n",
    "))\n",
    "actual_labels = task_2_test_sample[\"encoded_labels\"].tolist()\n",
    "\n",
    "model.gradient_checkpointing_enable()\n",
    "\n",
    "batch_size = 8\n",
    "dataloader = torch.utils.data.DataLoader(\n",
    "    list(zip(*query_product_pairs)),\n",
    "    batch_size=batch_size,\n",
    "    shuffle=False,\n",
    "    collate_fn=collate_fn\n",
    ")\n",
    "\n",
    "# predictions\n",
    "predicted_classes = []\n",
    "model.eval()\n",
    "\n",
    "with torch.no_grad():\n",
    "    for batch in tqdm(dataloader, desc=\"Predicting\"):\n",
    "        batch_queries, batch_products = zip(*batch)\n",
    "        inputs = tokenizer(\n",
    "            list(batch_queries),\n",
    "            list(batch_products),\n",
    "            truncation=True,\n",
    "            padding=True,\n",
    "            max_length=256,\n",
    "            return_tensors=\"pt\"\n",
    "        ).to(device)\n",
    "\n",
    "        with autocast():\n",
    "            outputs = model(**inputs)\n",
    "            logits = outputs.logits\n",
    "            predictions = torch.argmax(logits, dim=1).tolist()\n",
    "            predicted_classes.extend(predictions)\n",
    "        \n",
    "        torch.cuda.empty_cache()\n",
    "\n",
    "label_mapping = {0: \"E\", 1: \"S\", 2: \"C\", 3: \"I\"}\n",
    "\n",
    "print(\"Classification Report:\")\n",
    "print(classification_report(\n",
    "    actual_labels,  # True labels\n",
    "    predicted_classes,  # Predicted labels\n",
    "    target_names=[label_mapping[i] for i in range(len(label_mapping))]\n",
    "))\n",
    "\n",
    "micro_f1 = f1_score(actual_labels, predicted_classes, average=\"micro\")\n",
    "print(f\"\\nMicro F1 Score: {micro_f1:.4f}\")"
   ]
  },
  {
   "cell_type": "code",
   "execution_count": 69,
   "metadata": {},
   "outputs": [
    {
     "name": "stdout",
     "output_type": "stream",
     "text": [
      "Predictions saved to /home/sllawlis/esci-shopping-queries/data/distilbert-ce-esci-test1.csv\n"
     ]
    }
   ],
   "source": [
    "output_df = pd.DataFrame({\n",
    "    \"query\": [pair[0] for pair in query_product_pairs],\n",
    "    \"product_title\": [pair[1] for pair in query_product_pairs],\n",
    "    \"actual_label\": actual_labels,\n",
    "    \"predicted_label\": predicted_classes\n",
    "})\n",
    "\n",
    "output_file = \"/home/sllawlis/esci-shopping-queries/data/distilbert-ce-esci-test1.csv\"\n",
    "output_df.to_csv(output_file, index=False)\n",
    "print(f\"Predictions saved to {output_file}\")"
   ]
  },
  {
   "cell_type": "code",
   "execution_count": 67,
   "metadata": {},
   "outputs": [
    {
     "data": {
      "image/png": "[encoded data removed]",
      "text/plain": [
       "<Figure size 1000x800 with 2 Axes>"
      ]
     },
     "metadata": {},
     "output_type": "display_data"
    }
   ],
   "source": [
    "true_labels = actual_labels  # From the dataset (e.g., `task_2_test_sample`)\n",
    "predicted_labels = predicted_classes  # From the predictions\n",
    "\n",
    "# Create the confusion matrix\n",
    "fig, ax = plt.subplots(figsize=(10, 8))\n",
    "cm = confusion_matrix(true_labels, predicted_labels)\n",
    "\n",
    "# Define label mapping (ensure it matches the training labels)\n",
    "label_mapping = {0: \"E\", 1: \"S\", 2: \"C\", 3: \"I\"}\n",
    "class_names = [label_mapping[i] for i in range(len(label_mapping))]\n",
    "\n",
    "# Plot the confusion matrix\n",
    "sns.heatmap(cm, annot=True, fmt='d', cmap='Blues', xticklabels=class_names, yticklabels=class_names)\n",
    "plt.xlabel('Predicted Labels')\n",
    "plt.ylabel('True Labels')\n",
    "plt.title('Confusion Matrix for Cross-Encoder Model')\n",
    "plt.show()"
   ]
  }
 ],
 "metadata": {
  "kernelspec": {
   "display_name": "Python 3 (ipykernel)",
   "language": "python",
   "name": "python3"
  },
  "language_info": {
   "codemirror_mode": {
    "name": "ipython",
    "version": 3
   },
   "file_extension": ".py",
   "mimetype": "text/x-python",
   "name": "python",
   "nbconvert_exporter": "python",
   "pygments_lexer": "ipython3",
   "version": "3.11.5"
  }
 },
 "nbformat": 4,
 "nbformat_minor": 2
}
